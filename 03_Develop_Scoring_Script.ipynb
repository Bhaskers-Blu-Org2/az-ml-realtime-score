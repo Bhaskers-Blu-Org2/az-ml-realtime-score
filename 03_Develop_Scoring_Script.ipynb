{
 "cells": [
  {
   "cell_type": "markdown",
   "metadata": {},
   "source": [
    "Copyright (c) Microsoft Corporation. All rights reserved.\n",
    "\n",
    "Licensed under the MIT License."
   ]
  },
  {
   "cell_type": "markdown",
   "metadata": {},
   "source": [
    "# Develop Scoring Script"
   ]
  },
  {
   "cell_type": "markdown",
   "metadata": {},
   "source": [
    "In this notebook, we will develop the scoring script and test it locally. The web service will use the scoring script to call the model."
   ]
  },
  {
   "cell_type": "code",
   "execution_count": 1,
   "metadata": {},
   "outputs": [],
   "source": [
    "import sys\n",
    "import pandas as pd\n",
    "from utilities import text_to_json\n",
    "import logging\n",
    "from dotenv import set_key, get_key, find_dotenv\n",
    "from azureml.core.workspace import Workspace\n",
    "from azureml.core.model import Model"
   ]
  },
  {
   "cell_type": "code",
   "execution_count": 2,
   "metadata": {},
   "outputs": [],
   "source": [
    "sys.path.append('./scripts/')"
   ]
  },
  {
   "cell_type": "code",
   "execution_count": 11,
   "metadata": {},
   "outputs": [],
   "source": [
    "env_path = find_dotenv(raise_error_if_not_found=True)"
   ]
  },
  {
   "cell_type": "markdown",
   "metadata": {},
   "source": [
    "Let's load the workspace."
   ]
  },
  {
   "cell_type": "code",
   "execution_count": 4,
   "metadata": {},
   "outputs": [
    {
     "name": "stdout",
     "output_type": "stream",
     "text": [
      "Found the config file in: /datadrive/MachineLearningNotebooks/mlaksdeployment/aml_config/config.json\n",
      "fboyluamlsdkws\n",
      "fboyluamlsdkrg\n",
      "eastus2\n",
      "edf507a2-6235-46c5-b560-fd463ba2e771\n"
     ]
    }
   ],
   "source": [
    "ws = Workspace.from_config()\n",
    "print(ws.name, ws.resource_group, ws.location, ws.subscription_id, sep=\"\\n\")"
   ]
  },
  {
   "cell_type": "markdown",
   "metadata": {},
   "source": [
    "Let's retrive the model registered earlier and download it."
   ]
  },
  {
   "cell_type": "code",
   "execution_count": 12,
   "metadata": {},
   "outputs": [
    {
     "name": "stderr",
     "output_type": "stream",
     "text": [
      "DEBUG:cli.azure.cli.core:Current cloud config:\n",
      "AzureCloud\n",
      "DEBUG:adal-python:7905605c-92c9-4a8e-89dd-9558ff513b83 - Authority:Performing instance discovery: ...\n",
      "DEBUG:adal-python:7905605c-92c9-4a8e-89dd-9558ff513b83 - Authority:Performing static instance discovery\n",
      "DEBUG:adal-python:7905605c-92c9-4a8e-89dd-9558ff513b83 - Authority:Authority validated via static instance discovery\n",
      "INFO:adal-python:7905605c-92c9-4a8e-89dd-9558ff513b83 - TokenRequest:Getting token from cache with refresh if necessary.\n",
      "DEBUG:adal-python:7905605c-92c9-4a8e-89dd-9558ff513b83 - CacheDriver:finding with query keys: {'_clientId': '...', 'userId': '...'}\n",
      "DEBUG:adal-python:7905605c-92c9-4a8e-89dd-9558ff513b83 - CacheDriver:Looking for potential cache entries: {'_clientId': '...', 'userId': '...'}\n",
      "DEBUG:adal-python:7905605c-92c9-4a8e-89dd-9558ff513b83 - CacheDriver:Found 3 potential entries.\n",
      "DEBUG:adal-python:7905605c-92c9-4a8e-89dd-9558ff513b83 - CacheDriver:Resource specific token found.\n",
      "DEBUG:adal-python:7905605c-92c9-4a8e-89dd-9558ff513b83 - CacheDriver:Returning token from cache lookup, AccessTokenId: b'9GfMSuSGTs+9TDqbn+aNVWGUK7rouRVQNmFFO5yZFXs=', RefreshTokenId: b'2zMN5L8DDtpXYrQ+KtvabN8vtXTiSUseKc08J0ZCtYg='\n",
      "DEBUG:msrest.universal_http.requests:Configuring retry: max_retries=3, backoff_factor=0.8, max_backoff=90\n",
      "DEBUG:msrest.universal_http.requests:Configuring retry: max_retries=3, backoff_factor=0.8, max_backoff=90\n",
      "DEBUG:azureml._restclient.clientbase.WorkerPool:Found extra key word arguments: {'max_workers': None}\n",
      "INFO:azureml._restclient.clientbase:Created a worker pool for first use\n",
      "DEBUG:urllib3.connectionpool:Starting new HTTPS connection (1): eastus2.modelmanagement.azureml.net:443\n",
      "DEBUG:urllib3.connectionpool:https://eastus2.modelmanagement.azureml.net:443 \"GET /api/subscriptions/edf507a2-6235-46c5-b560-fd463ba2e771/resourceGroups/fboyluamlsdkrg/providers/Microsoft.MachineLearningServices/workspaces/fboyluamlsdkws/models?api-version=2018-11-19&orderBy=CreatedAtDesc&count=1&name=question_match_model&version=4 HTTP/1.1\" 200 None\n",
      "DEBUG:msrest.universal_http.requests:Configuring retry: max_retries=3, backoff_factor=0.8, max_backoff=90\n",
      "DEBUG:msrest.universal_http.requests:Configuring retry: max_retries=3, backoff_factor=0.8, max_backoff=90\n"
     ]
    },
    {
     "name": "stdout",
     "output_type": "stream",
     "text": [
      "question_match_model\n",
      "4\n",
      "aml://asset/3f6b7fb2d9334c41a5a359568a861a77\n"
     ]
    }
   ],
   "source": [
    "model_name = 'question_match_model'\n",
    "model_version = int(get_key(env_path, 'model_version'))\n",
    "model = Model(ws, name=model_name, version=model_version)\n",
    "print(model.name, model.version, model.url, sep=\"\\n\")"
   ]
  },
  {
   "cell_type": "code",
   "execution_count": 6,
   "metadata": {},
   "outputs": [
    {
     "data": {
      "text/plain": [
       "'model.pkl'"
      ]
     },
     "execution_count": 6,
     "metadata": {},
     "output_type": "execute_result"
    }
   ],
   "source": [
    "model.download(target_dir=\".\", exist_ok=True)"
   ]
  },
  {
   "cell_type": "markdown",
   "metadata": {},
   "source": [
    "## Create Scoring Script"
   ]
  },
  {
   "cell_type": "markdown",
   "metadata": {},
   "source": [
    "We use the writefile magic to write the contents of the below cell to `score.py` which includes the  `init` and `run` functions required by AML.\n",
    "- The init() function typically loads the model into a global object.\n",
    "- The run(input_data) function uses the model to predict a value based on the input_data."
   ]
  },
  {
   "cell_type": "code",
   "execution_count": 5,
   "metadata": {},
   "outputs": [
    {
     "name": "stdout",
     "output_type": "stream",
     "text": [
      "Overwriting score.py\n"
     ]
    }
   ],
   "source": [
    "%%writefile score.py\n",
    "\n",
    "import pandas as pd\n",
    "import json\n",
    "from duplicate_model import DuplicateModel\n",
    "import logging\n",
    "import timeit as t\n",
    "\n",
    "def init():\n",
    "    logger = logging.getLogger(\"scoring_script\")\n",
    "    global model\n",
    "    model_path = \"model.pkl\"\n",
    "    questions_path = \"./data_folder/questions.tsv\"\n",
    "    start = t.default_timer()\n",
    "    model = DuplicateModel(model_path, questions_path)\n",
    "    end = t.default_timer()\n",
    "    loadTimeMsg = \"Model loading time: {0} ms\".format(round((end-start)*1000, 2))\n",
    "    logger.info(loadTimeMsg)\n",
    "\n",
    "\n",
    "def run(body):\n",
    "    logger = logging.getLogger(\"scoring_script\")\n",
    "    json_load_text = json.loads(body)\n",
    "    text_to_score = json_load_text[\"input\"]\n",
    "    start = t.default_timer()\n",
    "    resp = model.score(text_to_score)\n",
    "    end = t.default_timer()\n",
    "    logger.info(\"Prediction took {0} ms\".format(round((end-start)*1000, 2)))\n",
    "    return json.dumps(resp)\n"
   ]
  },
  {
   "cell_type": "markdown",
   "metadata": {},
   "source": [
    "Let's test by running the score.py which will bring the imports and functions into the context of the notebook."
   ]
  },
  {
   "cell_type": "code",
   "execution_count": 6,
   "metadata": {},
   "outputs": [],
   "source": [
    "logging.basicConfig(level=logging.DEBUG)"
   ]
  },
  {
   "cell_type": "code",
   "execution_count": 7,
   "metadata": {},
   "outputs": [],
   "source": [
    "%run score.py"
   ]
  },
  {
   "cell_type": "markdown",
   "metadata": {},
   "source": [
    "Now, let's use one of the duplicate questions to test our driver."
   ]
  },
  {
   "cell_type": "code",
   "execution_count": 8,
   "metadata": {},
   "outputs": [
    {
     "data": {
      "text/plain": [
       "\"javascript arrays as objects.  possible duplicate: length of javascript object (ie. associative array) loop through javascript object    i'm trying to make an array, where each item has some name and value. the code above doesn't work. tryed to make an object, but it doesn't have a length property - no for loop.  is it possible to use arrays in this context?\""
      ]
     },
     "execution_count": 8,
     "metadata": {},
     "output_type": "execute_result"
    }
   ],
   "source": [
    "dupes_test_path = './data_folder/dupes_test.tsv'\n",
    "dupes_test = pd.read_csv(dupes_test_path, sep='\\t', encoding='latin1')\n",
    "text_to_score = dupes_test.iloc[0,4]\n",
    "text_to_score"
   ]
  },
  {
   "cell_type": "markdown",
   "metadata": {},
   "source": [
    "Now, call the init() to initalize the model."
   ]
  },
  {
   "cell_type": "code",
   "execution_count": 9,
   "metadata": {},
   "outputs": [
    {
     "name": "stderr",
     "output_type": "stream",
     "text": [
      "INFO:scoring_script:Model loading time: 569.45 ms\n"
     ]
    }
   ],
   "source": [
    "init()"
   ]
  },
  {
   "cell_type": "markdown",
   "metadata": {},
   "source": [
    "We convert the question text to json format and make predictions."
   ]
  },
  {
   "cell_type": "code",
   "execution_count": 10,
   "metadata": {},
   "outputs": [
    {
     "name": "stderr",
     "output_type": "stream",
     "text": [
      "INFO:scoring_script:Prediction took 44.67 ms\n"
     ]
    },
    {
     "data": {
      "text/plain": [
       "'[[5223, 6700, 0.9404882121467983], [11922383, 11922384, 0.6376984742439135], [750486, 750506, 0.0022961800568457157], [684672, 684692, 0.00027900736310522206], [171251, 171256, 0.00019333518502312696], [1584370, 1584377, 0.00016380270604214681], [4057440, 4060176, 0.0001498665973955501], [5187530, 5187652, 8.410158019842015e-05], [2241875, 2241883, 5.764723610306164e-05], [5117127, 5117172, 2.1329214222194568e-05], [126100, 4889658, 2.0901140965526787e-05], [12953704, 12953750, 1.777154932479563e-05], [1885557, 1885660, 1.4987021596611661e-05], [8495687, 8495740, 9.791005034068572e-06], [1129216, 1129270, 8.664625464258679e-06], [4255472, 4255480, 4.568289027003899e-06], [7364150, 7364307, 4.000594074848036e-06], [7837456, 14853974, 3.860920440981213e-06], [5891840, 5891929, 3.854145618824322e-06], [3583724, 3583740, 3.634922709192637e-06], [1451009, 1451043, 2.813801717908391e-06], [6487366, 6487376, 2.454908335371808e-06], [2274242, 2274327, 1.5704565243474771e-06], [85992, 86014, 1.044918488896226e-06], [728360, 728694, 9.684933804279107e-07], [1068834, 1144249, 6.304431352324421e-07], [4616202, 4616273, 4.583518189453672e-07], [111102, 111111, 4.107514797100845e-07], [14220321, 14220323, 3.952737160894453e-07], [2010892, 2010948, 2.864119513147539e-07], [7486085, 7486130, 2.61381450152019e-07], [695050, 695053, 2.0744707961546913e-07], [5767325, 5767357, 1.9463102149969275e-07], [359788, 359910, 1.6288569887331975e-07], [1822350, 1822769, 1.5206412159659434e-07], [4968406, 4968448, 1.1721415741308712e-07], [5093398, 5100287, 1.1587290188655228e-07], [1917576, 1917626, 9.45032155904228e-08], [6491463, 6491621, 8.30584430046092e-08], [19590865, 19590901, 8.075104516526687e-08], [5627284, 5627301, 7.434357020635735e-08], [979256, 979289, 5.4124445073898445e-08], [1085801, 1085810, 5.337710930097468e-08], [950087, 950146, 4.81476681762281e-08], [1527803, 1527820, 4.6311068691561623e-08], [2901102, 2901298, 3.8926557574561886e-08], [901115, 901144, 3.1869358757355975e-08], [1359469, 1359507, 2.562753789083276e-08], [1069666, 1069840, 2.383218336864068e-08], [572897, 572996, 2.3800821372702803e-08], [4935632, 4935684, 2.149409166681192e-08], [840781, 840808, 1.5864820208218862e-08], [205853, 553734, 1.0284235741855324e-08], [201183, 201471, 9.737642777561132e-09], [3127429, 3127440, 9.325941116631422e-09], [237104, 1473742, 8.441842596277292e-09], [1726630, 1726662, 7.2521353730334285e-09], [951021, 951057, 7.146736462559049e-09], [2851404, 2851413, 7.036547275986121e-09], [2631001, 2631198, 7.025911101052493e-09], [22519784, 22519785, 5.827681513698342e-09], [149055, 149150, 5.750794852432841e-09], [262427, 262511, 5.396364531330449e-09], [14028959, 8716680, 4.473232033426748e-09], [23392111, 23392650, 4.1095097231880804e-09], [3434278, 3434388, 3.597997936905441e-09], [122102, 122704, 3.3685008942315013e-09], [4425318, 4425359, 2.7117048208350595e-09], [9032856, 9033306, 2.3543814104253906e-09], [2100758, 2100767, 1.9799747332841394e-09], [6847697, 6847754, 1.9706818266542097e-09], [6259982, 6260001, 1.7143084443124552e-09], [1789945, 1789952, 1.6504839295046135e-09], [492994, 493018, 1.6447027794653122e-09], [23740548, 23740549, 1.467193417095302e-09], [13840429, 13840431, 1.1607611711486818e-09], [494035, 494046, 1.0258707882575096e-09], [24900875, 24900924, 9.936658620249633e-10], [20279484, 20279485, 8.364790556549519e-10], [3224834, 3224854, 8.340505629299374e-10], [203198, 1207393, 8.258424963975373e-10], [45015, 5686237, 7.70747207355004e-10], [134845, 138233, 7.312896696289789e-10], [168214, 169035, 6.905365171696207e-10], [3561493, 3561711, 6.171071746086694e-10], [1063007, 1063027, 5.903588029944566e-10], [242813, 242833, 5.582109967746742e-10], [359494, 359509, 5.290023359916503e-10], [3034941, 3034952, 5.211990833678724e-10], [28250680, 28250697, 5.176800254488577e-10], [1144783, 17606289, 5.085130296170361e-10], [13418669, 13418980, 5.020976848680395e-10], [1267283, 1267338, 4.455184990801629e-10], [194397, 194399, 4.405172760463196e-10], [18082, 1830844, 4.301046468555146e-10], [10693845, 10693852, 4.1191669914908793e-10], [850341, 850346, 3.953974892632202e-10], [2320069, 2320097, 3.942972450299899e-10], [3561043, 3561056, 3.230152200044393e-10], [1026069, 1026087, 3.0321940480880196e-10], [12829963, 12830031, 2.771452986138284e-10], [32584850, 32585470, 2.69110117457139e-10], [1646698, 3658673, 2.5667336074286106e-10], [1520800, 1520853, 2.357682608344898e-10], [518000, 3638034, 2.2298292519379825e-10], [400212, 6055620, 1.988827709118093e-10], [25111831, 25111942, 1.9035636581627736e-10], [1661197, 9337047, 1.8026647372300488e-10], [31044, 31047, 1.7869545992391947e-10], [500431, 500459, 1.7739011904046678e-10], [3059044, 3059129, 1.73988806443652e-10], [15141762, 15171030, 1.5771446792314912e-10], [1433212, 1433217, 1.5593010930502528e-10], [2802055, 2802064, 1.528419893847359e-10], [403967, 22745553, 1.3474923042749998e-10], [1379934, 1380058, 1.156641941620619e-10], [1470488, 1470494, 9.467437692267361e-11], [2421911, 2421949, 9.459899401900103e-11], [1771786, 1771824, 8.772061998649304e-11], [784929, 784946, 8.379920167773477e-11], [3384504, 3384534, 8.318161476637305e-11], [1634268, 1634321, 8.076966590863548e-11], [2716069, 2716188, 7.5917554131362e-11], [805107, 805113, 7.319608826495525e-11], [23667086, 23667087, 6.163213528135531e-11], [3665115, 3665147, 6.003396905597541e-11], [1017224, 1017237, 5.881407636358546e-11], [1566595, 1566644, 5.710552204522581e-11], [1458633, 3439981, 5.702275028685364e-11], [5041494, 5734583, 5.424592145011638e-11], [121203, 121259, 4.102886177216502e-11], [336859, 336868, 3.757858045290137e-11], [4912092, 6678156, 3.542774762319799e-11], [69913, 69984, 3.271990957567876e-11], [2075337, 2075349, 3.243372935589335e-11], [8021436, 8021462, 3.123373363819244e-11], [5316697, 5316755, 2.9741353334360974e-11], [307179, 307200, 2.929724202364522e-11], [1225667, 1225683, 2.6496522188626772e-11], [610406, 610415, 2.630601825033775e-11], [440739, 440772, 2.514142807183439e-11], [4907843, 4907854, 2.3743045382983658e-11], [391979, 810461, 2.162134755735397e-11], [1359018, 9331127, 1.7652524388407117e-11], [236073, 236106, 1.690353843887688e-11], [824349, 3354511, 1.677576504770458e-11], [25881041, 25881231, 1.5866102009295944e-11], [2844565, 2844704, 1.5624995588946323e-11], [20035101, 20035319, 1.4942204944120423e-11], [5431351, 5431435, 1.4599297416749375e-11], [3888902, 3888938, 1.4315960751290423e-11], [12475269, 12475285, 1.4297927346656716e-11], [4851595, 4851614, 1.039702702488747e-11], [4459379, 4459419, 9.687138379472964e-12], [1873983, 1873999, 8.774379571537044e-12], [152975, 153047, 8.562334013673837e-12], [364952, 364997, 6.5561188740498884e-12], [1398582, 1398608, 6.185430624475314e-12], [37684, 21925491, 6.1281029892470004e-12], [166221, 8758614, 5.741563129688496e-12], [8228281, 8228308, 4.91246536679481e-12], [5874652, 5876747, 3.6306896776154465e-12], [2067472, 2067584, 3.327615031331771e-12], [3514784, 3540295, 3.0516923466275394e-12], [29986657, 30070207, 2.8843063468413864e-12], [2846283, 2846298, 2.5506486110984893e-12], [7506844, 7506937, 2.4876846285009143e-12], [5004233, 5004276, 2.2444113662473456e-12], [27928, 27943, 1.991613171156125e-12], [436411, 24070373, 1.8571861598040882e-12], [92720, 92819, 1.8259169062570104e-12], [20077487, 20077854, 1.6024874276061233e-12], [7165395, 7165616, 1.265879635743434e-12], [3163407, 3163422, 1.0662021906362263e-12], [6677035, 6677069, 9.34562705336961e-13], [2655925, 8894528, 8.662853926971254e-13], [2194992, 2195167, 7.355398906568026e-13], [3076414, 3076648, 5.691357404479154e-13], [1051782, 1051797, 4.801472186852969e-13], [1056728, 1056730, 2.919051706082003e-13], [8110934, 8111171, 1.874421998006704e-13], [3595515, 3744697, 3.030873273128673e-14]]'"
      ]
     },
     "execution_count": 10,
     "metadata": {},
     "output_type": "execute_result"
    }
   ],
   "source": [
    "jsontext = text_to_json(text_to_score)\n",
    "r = run(jsontext)\n",
    "r"
   ]
  },
  {
   "cell_type": "markdown",
   "metadata": {},
   "source": [
    "Next, we move on to [creating the docker image and deploying on AKS](04_Create_Image_Deploy_On_AKS.ipynb)."
   ]
  }
 ],
 "metadata": {
  "kernelspec": {
   "display_name": "Python [conda env:MLAKSDeployAML]",
   "language": "python",
   "name": "conda-env-MLAKSDeployAML-py"
  },
  "language_info": {
   "codemirror_mode": {
    "name": "ipython",
    "version": 3
   },
   "file_extension": ".py",
   "mimetype": "text/x-python",
   "name": "python",
   "nbconvert_exporter": "python",
   "pygments_lexer": "ipython3",
   "version": "3.6.2"
  }
 },
 "nbformat": 4,
 "nbformat_minor": 2
}
