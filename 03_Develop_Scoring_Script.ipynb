{
 "cells": [
  {
   "cell_type": "markdown",
   "metadata": {},
   "source": [
    "Copyright (c) Microsoft Corporation. All rights reserved.\n",
    "\n",
    "Licensed under the MIT License."
   ]
  },
  {
   "cell_type": "markdown",
   "metadata": {},
   "source": [
    "# Develop Scoring Script"
   ]
  },
  {
   "cell_type": "markdown",
   "metadata": {},
   "source": [
    "In this notebook, we will develop the scoring script and test it locally. We will use the scoring script to create the web service that will call the model for scoring."
   ]
  },
  {
   "cell_type": "code",
   "execution_count": 1,
   "metadata": {},
   "outputs": [],
   "source": [
    "import sys\n",
    "import pandas as pd\n",
    "from utilities import text_to_json, get_auth\n",
    "import logging\n",
    "from dotenv import set_key, get_key, find_dotenv\n",
    "from azureml.core.workspace import Workspace\n",
    "from azureml.core.model import Model"
   ]
  },
  {
   "cell_type": "code",
   "execution_count": 2,
   "metadata": {},
   "outputs": [],
   "source": [
    "sys.path.append('./scripts/')"
   ]
  },
  {
   "cell_type": "code",
   "execution_count": 3,
   "metadata": {},
   "outputs": [],
   "source": [
    "env_path = find_dotenv(raise_error_if_not_found=True)"
   ]
  },
  {
   "cell_type": "markdown",
   "metadata": {},
   "source": [
    "Let's load the workspace."
   ]
  },
  {
   "cell_type": "code",
   "execution_count": 4,
   "metadata": {},
   "outputs": [
    {
     "name": "stdout",
     "output_type": "stream",
     "text": [
      "Found the config file in: /mnt/MLAKSDeployAML/aml_config/config.json\n",
      "fboyluamlsdkws\n",
      "fboyluamlsdkrg\n",
      "eastus2\n"
     ]
    }
   ],
   "source": [
    "ws = Workspace.from_config(auth=get_auth(env_path))\n",
    "print(ws.name, ws.resource_group, ws.location, sep=\"\\n\")"
   ]
  },
  {
   "cell_type": "markdown",
   "metadata": {},
   "source": [
    "Let's retrive the model registered earlier and download it."
   ]
  },
  {
   "cell_type": "code",
   "execution_count": 5,
   "metadata": {},
   "outputs": [
    {
     "name": "stdout",
     "output_type": "stream",
     "text": [
      "question_match_model\n",
      "9\n",
      "aml://asset/32e91ee38bcd43768c1945dec915bcef\n"
     ]
    }
   ],
   "source": [
    "model_name = 'question_match_model'\n",
    "model_version = int(get_key(env_path, 'model_version'))\n",
    "model = Model(ws, name=model_name, version=model_version)\n",
    "print(model.name, model.version, model.url, sep=\"\\n\")"
   ]
  },
  {
   "cell_type": "code",
   "execution_count": 6,
   "metadata": {},
   "outputs": [
    {
     "data": {
      "text/plain": [
       "'model.pkl'"
      ]
     },
     "execution_count": 6,
     "metadata": {},
     "output_type": "execute_result"
    }
   ],
   "source": [
    "model.download(target_dir=\".\", exist_ok=True)"
   ]
  },
  {
   "cell_type": "markdown",
   "metadata": {},
   "source": [
    "## Create Scoring Script"
   ]
  },
  {
   "cell_type": "markdown",
   "metadata": {},
   "source": [
    "We use the writefile magic to write the contents of the below cell to `score.py` which includes the  `init` and `run` functions required by AML.\n",
    "- The init() function typically loads the model into a global object.\n",
    "- The run(input_data) function uses the model to predict a value based on the input_data."
   ]
  },
  {
   "cell_type": "code",
   "execution_count": 7,
   "metadata": {},
   "outputs": [
    {
     "name": "stdout",
     "output_type": "stream",
     "text": [
      "Writing score.py\n"
     ]
    }
   ],
   "source": [
    "%%writefile score.py\n",
    "\n",
    "import pandas as pd\n",
    "import json\n",
    "from duplicate_model import DuplicateModel\n",
    "import logging\n",
    "import timeit as t\n",
    "\n",
    "def init():\n",
    "    logger = logging.getLogger(\"scoring_script\")\n",
    "    global model\n",
    "    model_path = \"model.pkl\"\n",
    "    questions_path = \"./data_folder/questions.tsv\"\n",
    "    start = t.default_timer()\n",
    "    model = DuplicateModel(model_path, questions_path)\n",
    "    end = t.default_timer()\n",
    "    loadTimeMsg = \"Model loading time: {0} ms\".format(round((end-start)*1000, 2))\n",
    "    logger.info(loadTimeMsg)\n",
    "\n",
    "\n",
    "def run(body):\n",
    "    logger = logging.getLogger(\"scoring_script\")\n",
    "    json_load_text = json.loads(body)\n",
    "    text_to_score = json_load_text[\"input\"]\n",
    "    start = t.default_timer()\n",
    "    resp = model.score(text_to_score)\n",
    "    end = t.default_timer()\n",
    "    logger.info(\"Prediction took {0} ms\".format(round((end-start)*1000, 2)))\n",
    "    return json.dumps(resp)\n"
   ]
  },
  {
   "cell_type": "markdown",
   "metadata": {},
   "source": [
    "Let's test by running the score.py which will bring the imports and functions into the context of the notebook."
   ]
  },
  {
   "cell_type": "code",
   "execution_count": 8,
   "metadata": {},
   "outputs": [],
   "source": [
    "logging.basicConfig(level=logging.DEBUG)"
   ]
  },
  {
   "cell_type": "code",
   "execution_count": 9,
   "metadata": {},
   "outputs": [],
   "source": [
    "%run score.py"
   ]
  },
  {
   "cell_type": "markdown",
   "metadata": {},
   "source": [
    "Now, let's use one of the duplicate questions to test our driver."
   ]
  },
  {
   "cell_type": "code",
   "execution_count": 10,
   "metadata": {},
   "outputs": [
    {
     "data": {
      "text/plain": [
       "\"how can i print the length of this json object?. i'm trying to print the length of this json object to the console but i keep receiving 'undefined'. this is being json encoded in php and then returned via ajax to an anonymous function as 'msg'  printing to console:  i'm able to print the value of msg[1].item_id but i'm not able to get the length via msg.length thanks for your help.\""
      ]
     },
     "execution_count": 10,
     "metadata": {},
     "output_type": "execute_result"
    }
   ],
   "source": [
    "dupes_test_path = './data_folder/dupes_test.tsv'\n",
    "dupes_test = pd.read_csv(dupes_test_path, sep='\\t', encoding='latin1')\n",
    "text_to_score = dupes_test.iloc[0,4]\n",
    "text_to_score"
   ]
  },
  {
   "cell_type": "markdown",
   "metadata": {},
   "source": [
    "Now, call the init() to initalize the model."
   ]
  },
  {
   "cell_type": "code",
   "execution_count": 11,
   "metadata": {},
   "outputs": [
    {
     "name": "stderr",
     "output_type": "stream",
     "text": [
      "INFO:scoring_script:Model loading time: 538.18 ms\n"
     ]
    }
   ],
   "source": [
    "init()"
   ]
  },
  {
   "cell_type": "markdown",
   "metadata": {},
   "source": [
    "We convert the question text to json format and make predictions."
   ]
  },
  {
   "cell_type": "code",
   "execution_count": 12,
   "metadata": {},
   "outputs": [
    {
     "name": "stderr",
     "output_type": "stream",
     "text": [
      "INFO:scoring_script:Prediction took 37.4 ms\n"
     ]
    },
    {
     "data": {
      "text/plain": [
       "'[[750486, 750506, 0.788610734888794], [14220321, 14220323, 0.788610734888794], [203198, 1207393, 0.7744806758593752], [14028959, 8716680, 0.7311754600005094], [11922383, 11922384, 0.7311754600005094], [23667086, 23667087, 0.7070711224820937], [20279484, 20279485, 0.7070711224820937], [13840429, 13840431, 0.647781605794779], [3127429, 3127440, 0.616515842327386], [23740548, 23740549, 0.5927238975963133], [901115, 901144, 0.5808804369565093], [6847697, 6847754, 0.5629631823473857], [1225667, 1225683, 0.5628036088927046], [1451009, 1451043, 0.5282633063964524], [111102, 111111, 0.4875722029962708], [4616202, 4616273, 0.4814500612962727], [5316697, 5316755, 0.47118219613078227], [166221, 8758614, 0.4383863027975902], [1634268, 1634321, 0.4266541854491646], [10693845, 10693852, 0.4254479315108979], [500431, 500459, 0.42000193740743125], [950087, 950146, 0.42000193740743125], [25111831, 25111942, 0.41296635376781304], [6487366, 6487376, 0.4098846417117424], [2631001, 2631198, 0.3967062041764178], [2241875, 2241883, 0.3967062041764178], [2716069, 2716188, 0.3967062041764178], [12475269, 12475285, 0.39394312161026257], [2274242, 2274327, 0.39326020239146564], [1359469, 1359507, 0.39012520828878194], [4968406, 4968448, 0.38727303205388], [3076414, 3076648, 0.3870541707179635], [24900875, 24900924, 0.3865139509446695], [3384504, 3384534, 0.382455784161409], [572897, 572996, 0.38096034139516133], [69913, 69984, 0.38044680703396705], [8228281, 8228308, 0.3768267826450654], [22519784, 22519785, 0.3761808475287013], [4255472, 4255480, 0.37442692696160224], [359788, 359910, 0.37196027015698174], [336859, 336868, 0.3654440907740584], [7506844, 7506937, 0.3607488225335955], [440739, 440772, 0.3607488225335955], [7165395, 7165616, 0.3607488225335955], [951021, 951057, 0.3607488225335955], [31044, 31047, 0.35836719008949963], [364952, 364997, 0.3567317105364085], [1129216, 1129270, 0.3497569155431248], [1359018, 9331127, 0.34895914541940787], [13418669, 13418980, 0.34840023689061067], [20077487, 20077854, 0.34836668443138585], [2320069, 2320097, 0.3478425124821384], [1433212, 1433217, 0.34729296915700275], [3224834, 3224854, 0.338088109219761], [784929, 784946, 0.33390862173820895], [12953704, 12953750, 0.3327649275358897], [6491463, 6491621, 0.3327649275358897], [28250680, 28250697, 0.3327649275358897], [824349, 3354511, 0.3299434340179686], [979256, 979289, 0.3294316715650582], [12829963, 12830031, 0.32921942928333137], [5004233, 5004276, 0.3264510163575085], [3434278, 3434388, 0.32488193496834705], [3163407, 3163422, 0.3201863388126229], [3595515, 3744697, 0.31469739764704735], [4459379, 4459419, 0.31469739764704735], [518000, 3638034, 0.31203321985346544], [1917576, 1917626, 0.3116200810595785], [1458633, 3439981, 0.31157631462487223], [5431351, 5431435, 0.311108183039976], [1056728, 1056730, 0.3066860456111986], [4935632, 4935684, 0.3066860456111986], [1144783, 17606289, 0.3066860456111986], [494035, 494046, 0.3066860456111986], [359494, 359509, 0.3043603799564931], [805107, 805113, 0.30427704652133547], [1069666, 1069840, 0.3028977849682947], [3888902, 3888938, 0.302418024585884], [1398582, 1398608, 0.302418024585884], [8021436, 8021462, 0.302418024585884], [2194992, 2195167, 0.302418024585884], [8110934, 8111171, 0.302418024585884], [5041494, 5734583, 0.3022995965133857], [1873983, 1873999, 0.30185309090429796], [6677035, 6677069, 0.30185309090429796], [122102, 122704, 0.3009587966062687], [2421911, 2421949, 0.2989915013128626], [1771786, 1771824, 0.2989915013128626], [149055, 149150, 0.2989915013128626], [134845, 138233, 0.2989915013128626], [3561493, 3561711, 0.2989915013128626], [4057440, 4060176, 0.29701958953347235], [1520800, 1520853, 0.29701958953347235], [3059044, 3059129, 0.296164622816839], [242813, 242833, 0.2956957979553022], [194397, 194399, 0.2956957979553022], [1789945, 1789952, 0.2949842788931147], [168214, 169035, 0.2949842788931147], [3561043, 3561056, 0.29344083016676115], [23392111, 23392650, 0.29344083016676115], [1822350, 1822769, 0.29344083016676115], [391979, 810461, 0.29344083016676115], [1566595, 1566644, 0.29344083016676115], [1885557, 1885660, 0.29344083016676115], [492994, 493018, 0.29289877609730164], [400212, 6055620, 0.29289877609730164], [2075337, 2075349, 0.29289877609730164], [7364150, 7364307, 0.28503997860645286], [436411, 24070373, 0.28503997860645286], [237104, 1473742, 0.28503997860645286], [684672, 684692, 0.28503997860645286], [15141762, 15171030, 0.28503997860645286], [152975, 153047, 0.28503997860645286], [262427, 262511, 0.28503997860645286], [126100, 4889658, 0.28503997860645286], [307179, 307200, 0.28503997860645286], [1063007, 1063027, 0.28503997860645286], [9032856, 9033306, 0.28503997860645286], [1068834, 1144249, 0.28503997860645286], [403967, 22745553, 0.28503997860645286], [850341, 850346, 0.28503997860645286], [1527803, 1527820, 0.28503997860645286], [201183, 201471, 0.28503997860645286], [840781, 840808, 0.28503997860645286], [205853, 553734, 0.28503997860645286], [1379934, 1380058, 0.28503997860645286], [27928, 27943, 0.28503997860645286], [5223, 6700, 0.28503997860645286], [25881041, 25881231, 0.28503997860645286], [5767325, 5767357, 0.28503997860645286], [85992, 86014, 0.28503997860645286], [7837456, 14853974, 0.28503997860645286], [29986657, 30070207, 0.28503997860645286], [171251, 171256, 0.28503997860645286], [37684, 21925491, 0.28503997860645286], [32584850, 32585470, 0.28503997860645286], [19590865, 19590901, 0.28503997860645286], [20035101, 20035319, 0.28503997860645286], [121203, 121259, 0.28503997860645286], [8495687, 8495740, 0.28503997860645286], [92720, 92819, 0.28503997860645286], [695050, 695053, 0.28503997860645286], [3583724, 3583740, 0.28503997860645286], [4851595, 4851614, 0.28503997860645286], [4912092, 6678156, 0.28503997860645286], [6259982, 6260001, 0.28503997860645286], [2851404, 2851413, 0.28503997860645286], [18082, 1830844, 0.28503997860645286], [4425318, 4425359, 0.28503997860645286], [5627284, 5627301, 0.28503997860645286], [2655925, 8894528, 0.28503997860645286], [2901102, 2901298, 0.28503997860645286], [5093398, 5100287, 0.28503997860645286], [2010892, 2010948, 0.28503997860645286], [5117127, 5117172, 0.28503997860645286], [1017224, 1017237, 0.28503997860645286], [3665115, 3665147, 0.28503997860645286], [1584370, 1584377, 0.28503997860645286], [1085801, 1085810, 0.28503997860645286], [4907843, 4907854, 0.28503997860645286], [5187530, 5187652, 0.28503997860645286], [728360, 728694, 0.28503997860645286], [2802055, 2802064, 0.28503997860645286], [2067472, 2067584, 0.28503997860645286], [1051782, 1051797, 0.28503997860645286], [7486085, 7486130, 0.28503997860645286], [5874652, 5876747, 0.28503997860645286], [1646698, 3658673, 0.28503997860645286], [1661197, 9337047, 0.28503997860645286], [1726630, 1726662, 0.28503997860645286], [2846283, 2846298, 0.28503997860645286], [1267283, 1267338, 0.28503997860645286], [5891840, 5891929, 0.28503997860645286], [3034941, 3034952, 0.28503997860645286], [3514784, 3540295, 0.28503997860645286], [2844565, 2844704, 0.28503997860645286], [236073, 236106, 0.2831836938900997], [2100758, 2100767, 0.2831836938900997], [45015, 5686237, 0.2820873837564182], [610406, 610415, 0.2820873837564182], [1026069, 1026087, 0.2820873837564182], [1470488, 1470494, 0.2794316956579492]]'"
      ]
     },
     "execution_count": 12,
     "metadata": {},
     "output_type": "execute_result"
    }
   ],
   "source": [
    "jsontext = text_to_json(text_to_score)\n",
    "r = run(jsontext)\n",
    "r"
   ]
  },
  {
   "cell_type": "markdown",
   "metadata": {},
   "source": [
    "Next, we move on to [creating the docker image and deploying on AKS](04_Create_Image_Deploy_On_AKS.ipynb)."
   ]
  }
 ],
 "metadata": {
  "kernelspec": {
   "display_name": "Python [conda env:MLAKSDeployAML]",
   "language": "python",
   "name": "conda-env-MLAKSDeployAML-py"
  },
  "language_info": {
   "codemirror_mode": {
    "name": "ipython",
    "version": 3
   },
   "file_extension": ".py",
   "mimetype": "text/x-python",
   "name": "python",
   "nbconvert_exporter": "python",
   "pygments_lexer": "ipython3",
   "version": "3.6.2"
  }
 },
 "nbformat": 4,
 "nbformat_minor": 2
}
