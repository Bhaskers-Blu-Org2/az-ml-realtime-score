{
 "cells": [
  {
   "cell_type": "markdown",
   "metadata": {},
   "source": [
    "Copyright (c) Microsoft Corporation. All rights reserved.\n",
    "\n",
    "Licensed under the MIT License."
   ]
  },
  {
   "cell_type": "markdown",
   "metadata": {},
   "source": [
    "# Deploying a ML module on IoT Edge Device\n",
    "\n",
    "\n",
    "In this exercise, we introduce the steps of deploying an ML module through [Azure IoT Edge](https://docs.microsoft.com/en-us/azure/iot-edge/how-iot-edge-works). The purpose is to deploy a trained machine learning model to the edge device. When the input data is generated from a particular process pipeline and fed into the edge device, the deployed model is able to make predictions right on the edge device without accessing to the cloud. \n",
    "\n",
    "\n",
    "## Outline<a id=\"BackToTop\"></a>\n",
    "- [Prerequisite](#prerequisite)\n",
    "- [Step 1: Deploy ML Module on IoT Edge Device](#step1)\n",
    "- [Step 2: Test ML Module](#step2)"
   ]
  },
  {
   "cell_type": "code",
   "execution_count": null,
   "metadata": {},
   "outputs": [],
   "source": [
    "import os\n",
    "import pandas as pd\n",
    "from utilities import text_to_json\n",
    "import requests\n",
    "import numpy as np\n",
    "import json\n",
    "import subprocess\n",
    "from azureml.core import Workspace\n",
    "from azureml.core.compute import AksCompute, ComputeTarget\n",
    "from azureml.core.webservice import Webservice, AksWebservice\n",
    "from azureml.core.image import Image\n",
    "from azureml.core.model import Model\n",
    "from azureml.core.workspace import Workspace\n",
    "from azureml.core.conda_dependencies import CondaDependencies\n",
    "from dotenv import set_key, get_key, find_dotenv"
   ]
  },
  {
   "cell_type": "code",
   "execution_count": null,
   "metadata": {},
   "outputs": [],
   "source": [
    "env_path = find_dotenv(raise_error_if_not_found=True)"
   ]
  },
  {
   "cell_type": "markdown",
   "metadata": {},
   "source": [
    "## Prerequisites <a id=\"Prerequisite\"></a>\n",
    "\n",
    "### 1. Satisfy the requirment specified in Sections `Prerequisites` and `Setup` in the repo's [README page](./README.md).\n",
    "\n",
    "\n",
    "### 2. Build the trained ML Model into a docker image. \n",
    "    \n",
    "You have two options to satisfy this requirment. The first option is to use a prebuilt image. The second option is to complete all the notebooks from [00_AML_Configuration.ipynb](./00_AML_Configuration.ipynb) through [04_Create_Image_Deploy_On_AKS.ipynb](./04_Create_Image_Deploy_On_AKS.ipynb) (in [04 notebook](./04_Create_Image_Deploy_On_AKS.ipynb), complete through the section `Test image locally` only).\n",
    "\n",
    "\n"
   ]
  },
  {
   "cell_type": "markdown",
   "metadata": {},
   "source": [
    "### 3. Create an IoT Hub and Register an IoT Edge device.\n",
    "\n",
    "Please follow the sections `Create an IoT hub` and `Register an IoT Edge device` in document [Deploy Azure IoT Edge on a simulated device in Linux or MacOS - preview](https://docs.microsoft.com/en-us/azure/iot-edge/tutorial-simulate-device-linux). When creating IoT hub, we assume you use the same resource group as the one created in [00_AML_Configuration.ipynb](./00_AML_Configuration.ipynb). After finishing these instructions, copy the value for **Connection string—primary key** from the IoT Edge Device page and save it as variable *device_connection_string*. You will need to this information to fullfill next step. Please fill values to variables *iothub_name*, *device_id*, *deployment_id*, and *device_connection_string* in the next cell.\n",
    "    \n",
    "\n"
   ]
  },
  {
   "cell_type": "markdown",
   "metadata": {},
   "source": [
    "Get workspace\n",
    "\n",
    "Load existing workspace from the config file."
   ]
  },
  {
   "cell_type": "code",
   "execution_count": null,
   "metadata": {},
   "outputs": [],
   "source": [
    "ws = Workspace.from_config()\n",
    "print(ws.name, ws.resource_group, ws.location, sep=\"\\n\")"
   ]
  },
  {
   "cell_type": "code",
   "execution_count": null,
   "metadata": {},
   "outputs": [],
   "source": [
    "#device_connection_string = <device_connection_string>\n",
    "iothub_name = 'myiotnub' # iot hub name\n",
    "device_id = 'mlaksdevice' # the name you give to the edge device\n",
    "deployment_id = 'mlaksmodulesdk'   # the ML module name"
   ]
  },
  {
   "cell_type": "code",
   "execution_count": null,
   "metadata": {},
   "outputs": [],
   "source": [
    "set_key(env_path, \"iothub_name\", iothub_name)\n",
    "set_key(env_path, \"device_id\", device_id)\n",
    "set_key(env_path, \"deployment_id\", deployment_id)"
   ]
  },
  {
   "cell_type": "code",
   "execution_count": null,
   "metadata": {},
   "outputs": [],
   "source": [
    "resource_group = get_key(env_path, 'resource_group')\n",
    "image_name = get_key(env_path, 'image_name')"
   ]
  },
  {
   "cell_type": "code",
   "execution_count": null,
   "metadata": {},
   "outputs": [],
   "source": [
    "# install az-cli iot extension \n",
    "!sudo -i az extension add --name azure-cli-iot-ext"
   ]
  },
  {
   "cell_type": "markdown",
   "metadata": {},
   "source": [
    "Create IoT Hub\n",
    "\n",
    "The following code creates a free F1 hub in the resource group IoTEdgeResources. Replace {hub_name} with a unique name for your IoT hub."
   ]
  },
  {
   "cell_type": "code",
   "execution_count": null,
   "metadata": {},
   "outputs": [],
   "source": [
    "!az iot hub create --resource-group $resource_group --name $iothub_name --sku F1 "
   ]
  },
  {
   "cell_type": "markdown",
   "metadata": {},
   "source": [
    "Register an IoT Edge device\n",
    "\n",
    "In the Azure cloud shell, enter the following command to create a device name in `device_id` variable in your hub."
   ]
  },
  {
   "cell_type": "code",
   "execution_count": null,
   "metadata": {},
   "outputs": [],
   "source": [
    "!az iot hub device-identity create --hub-name $iothub_name --device-id $device_id --edge-enabled"
   ]
  },
  {
   "cell_type": "code",
   "execution_count": null,
   "metadata": {},
   "outputs": [],
   "source": [
    "json_data = !az iot hub device-identity show-connection-string --device-id $device_id --hub-name $iothub_name\n",
    "device_connection_string = json.loads(''.join([i for i in json_data if 'WARNING' not in i]))['cs']\n",
    "device_connection_string"
   ]
  },
  {
   "cell_type": "markdown",
   "metadata": {},
   "source": [
    "### 4. Provision and Configure IoT Edge Device.\n",
    "\n",
    "In this tutorial, we use a Ubuntu Linux VM as the edge device. You can use the same Linux VM where you run [the current notebook](./04b_Deploy_ML_model_on_IOT_Edge.ipynb) (Or alternatively, you can use another Linux VM, e.g. Ubuntu server 16.04 LTS). The goal is to configure the VM so that it can run IoT Edge runtime and Docker. \n",
    "\n",
    "To finish the configuration, please follow [this doc](https://docs.microsoft.com/en-us/azure/iot-edge/how-to-install-iot-edge-linux) to install iot edge runtime on this VM. You will need to use *device_connection_string* obtained from previous section.\n",
    "\n",
    "Follow section `Disable process identification` of [this doc](https://docs.microsoft.com/en-us/azure/iot-edge/tutorial-deploy-machine-learning) to configure the DSVM. (Not sure what is the objective of this step, or what is the consequence if not performing this step)   "
   ]
  },
  {
   "cell_type": "markdown",
   "metadata": {},
   "source": [
    "## Step 1: Deploy the ML module - Instructions via Azure portal (Tested working) <a id=\"step1\"></a>\n",
    "\n",
    "\n",
    "Essentially, the objective is to deploy the ML container to the IoT Edge device.\n",
    "- Finish steps 1-4 of `Deploy to your device steps` section in [this doc](https://docs.microsoft.com/en-us/azure/iot-edge/tutorial-deploy-machine-learning)\n",
    "\n",
    "\n",
    "1. On the Azure portal, navigate to your IoT hub.\n",
    "2. Click *IoT Edge (preview)* and select your IoT Edge device.\n",
    "3. Select *Set modules*.\n",
    "4. Select *Add IoT Edge Module*.\n",
    "5. In the Name field, enter a name, `yourmodulename`. \n",
    "6. In the Image field, enter your image location; for example `yanzamlwacrzcoyaxuv.azurecr.io/imgmlaks:1`.\n",
    "    \n",
    "    【Tips】: You can find the image location in the resource group where AML workspace is created. In this resource group, click resource `Container registry`. You can find relivant information in `Access Keys` and `Repositories` tabs. \n",
    "    \n",
    "7. In the *Container Create Options* field, set the following configuration. You can change the HostPort Binding port number to your desired port number. \n",
    "\n",
    "    {\n",
    "      \"HostConfig\": {\n",
    "        \"PortBindings\": {\n",
    "          \"5001/tcp\": [\n",
    "            {\n",
    "              \"HostPort\": \"5001\"\n",
    "            }\n",
    "          ]\n",
    "         }\n",
    "        }\n",
    "       }\n",
    "\n",
    "8.\tClick *Save*.\n",
    "9.\tBack in the *Add Modules* step, click *Next*.\n",
    "10.\tIn the *Specify Routes* step, leave the default setting unchanged.      \n",
    "11.\tSelect Next.\n",
    "12.\tIn the *Review Deployment* step, click *Submit*.\n",
    "13.\tReturn to the device details page and click *Refresh*. You should see the new `yourmodulename` running.\n"
   ]
  },
  {
   "cell_type": "markdown",
   "metadata": {},
   "source": [
    "## Step 1: Deploy the ML module - Instructions via Python SDK (Not working yet)\n",
    "Instructions from [this doc](https://docs.microsoft.com/en-us/azure/machine-learning/service/how-to-deploy-and-where)."
   ]
  },
  {
   "cell_type": "code",
   "execution_count": null,
   "metadata": {},
   "outputs": [],
   "source": [
    "# Getting your container details\n",
    "container_reg = ws.get_details()[\"containerRegistry\"]\n",
    "reg_name=container_reg.split(\"/\")[-1]\n",
    "container_url = \"\\\"\" + image.image_location + \"\\\",\"\n",
    "subscription_id = ws.subscription_id\n",
    "from azure.mgmt.containerregistry import ContainerRegistryManagementClient\n",
    "from azure.mgmt import containerregistry\n",
    "client = ContainerRegistryManagementClient(ws._auth,subscription_id)\n",
    "result= client.registries.list_credentials(resource_group, reg_name, custom_headers=None, raw=False)\n",
    "username = result.username\n",
    "password = result.passwords[0].value\n",
    "print('ContainerURL:{}'.format(image.image_location))\n",
    "print('Servername: {}'.format(reg_name))\n",
    "print('Username: {}'.format(username))\n",
    "print('Password: {}'.format(password))"
   ]
  },
  {
   "cell_type": "code",
   "execution_count": null,
   "metadata": {},
   "outputs": [],
   "source": [
    "# get the image from workspace in case the 'image' object is not in the memory\n",
    "image_name = get_key(env_path, 'image_name')\n",
    "image = ws.images[image_name]"
   ]
  },
  {
   "cell_type": "code",
   "execution_count": null,
   "metadata": {},
   "outputs": [],
   "source": [
    "# this file has issue - need to fix\n",
    "!wget https://raw.githubusercontent.com/Azure/ai-toolkit-iot-edge/master/amliotedge/deploymodel"
   ]
  },
  {
   "cell_type": "code",
   "execution_count": null,
   "metadata": {},
   "outputs": [],
   "source": [
    "!sudo chmod +x deploymodel"
   ]
  },
  {
   "cell_type": "code",
   "execution_count": null,
   "metadata": {},
   "outputs": [],
   "source": [
    "ContainerRegistryName = reg_name\n",
    "imageLocationURL = image.image_location\n",
    "DeploymentID = deployment_id\n",
    "IoTHubname = iothub_name\n",
    "DeviceID = device_id"
   ]
  },
  {
   "cell_type": "code",
   "execution_count": null,
   "metadata": {},
   "outputs": [],
   "source": [
    "username"
   ]
  },
  {
   "cell_type": "code",
   "execution_count": null,
   "metadata": {},
   "outputs": [],
   "source": [
    "# blocking cell. Not working yet. The downloaded file deploymodel has issue - working on it\n",
    "!sudo ./deploymodel $ContainerRegistryName $username $password $imageLocationURL $DeploymentID $IoTHubname $DeviceID"
   ]
  },
  {
   "cell_type": "code",
   "execution_count": null,
   "metadata": {},
   "outputs": [],
   "source": [
    "DeploymentID = 'mlaksmodulesdk2'\n",
    "print(iothub_name)\n",
    "print(DeploymentID)\n",
    "print(device_id)"
   ]
  },
  {
   "cell_type": "code",
   "execution_count": null,
   "metadata": {},
   "outputs": [],
   "source": [
    "# by pass file deploymodel, manually created deployment_test.json file. The test does not work yet.\n",
    "!az iot edge deployment create --deployment-id $DeploymentID --content deployment_test.json --hub-name $iothub_name --target-condition \"deviceId='$device_id'\" --priority 1"
   ]
  },
  {
   "cell_type": "code",
   "execution_count": null,
   "metadata": {},
   "outputs": [],
   "source": [
    "!az iot edge deployment create --deployment-id $DeploymentID --content module_deploy.json --hub-name $iothub_name --target-condition \"deviceId='$device_id'\" --priority 1"
   ]
  },
  {
   "cell_type": "markdown",
   "metadata": {},
   "source": [
    "You can check the logs of the ML module with the below."
   ]
  },
  {
   "cell_type": "code",
   "execution_count": null,
   "metadata": {},
   "outputs": [],
   "source": [
    "!docker logs -f $yourmodulename"
   ]
  },
  {
   "cell_type": "markdown",
   "metadata": {},
   "source": [
    "## Step 2: Test ML Module <a id=\"step2\"></a>\n",
    "We now test the ML Module from iot Edge device."
   ]
  },
  {
   "cell_type": "code",
   "execution_count": null,
   "metadata": {},
   "outputs": [],
   "source": [
    "%%time\n",
    "prediction = aks_service.run(input_data = jsontext)\n",
    "print(prediction)"
   ]
  },
  {
   "cell_type": "markdown",
   "metadata": {},
   "source": [
    "Let's try a few more duplicate questions and display their top 3 original matches. Let's first get the scoring URL and and API key for the web service."
   ]
  },
  {
   "cell_type": "markdown",
   "metadata": {},
   "source": [
    "**The port 5001 must be open from Azure portal**. How to open it automatically?"
   ]
  },
  {
   "cell_type": "code",
   "execution_count": null,
   "metadata": {},
   "outputs": [],
   "source": [
    "# The port 5001 must be open from Azure portal\n",
    "#url = 'http://localhost:5001/score'\n",
    "url = 'http://13.92.137.234:5001/score'"
   ]
  },
  {
   "cell_type": "code",
   "execution_count": null,
   "metadata": {},
   "outputs": [],
   "source": [
    "#scoring_url = aks_service.scoring_uri\n",
    "scoring_url = url\n",
    "#api_key = aks_service.get_keys()[0]"
   ]
  },
  {
   "cell_type": "code",
   "execution_count": null,
   "metadata": {},
   "outputs": [],
   "source": [
    "# call the web service end point\n",
    "headers = {'Content-Type':'application/json'}\n",
    "response = requests.post(scoring_url, data=jsontext, headers=headers)\n",
    "response"
   ]
  },
  {
   "cell_type": "code",
   "execution_count": null,
   "metadata": {},
   "outputs": [],
   "source": [
    "prediction = json.loads(response.content.decode('ascii'))\n",
    "prediction"
   ]
  },
  {
   "cell_type": "code",
   "execution_count": null,
   "metadata": {},
   "outputs": [],
   "source": [
    "dupes_to_score = dupes_test.iloc[:5,4]"
   ]
  },
  {
   "cell_type": "code",
   "execution_count": null,
   "metadata": {},
   "outputs": [],
   "source": [
    "results = [\n",
    "    requests.post(scoring_url, data=text_to_json(text), headers=headers)\n",
    "    for text in dupes_to_score\n",
    "]"
   ]
  },
  {
   "cell_type": "markdown",
   "metadata": {},
   "source": [
    "Let's print top 3 matches for each duplicate question."
   ]
  },
  {
   "cell_type": "code",
   "execution_count": null,
   "metadata": {},
   "outputs": [],
   "source": [
    "[eval(results[i].json())[0:3] for i in range(0, len(results))]"
   ]
  },
  {
   "cell_type": "markdown",
   "metadata": {},
   "source": [
    "Next let's quickly check what the request response performance is for the deployed model on IoT edge device."
   ]
  },
  {
   "cell_type": "code",
   "execution_count": null,
   "metadata": {},
   "outputs": [],
   "source": [
    "text_data = list(map(text_to_json, dupes_to_score))  # Retrieve the text data"
   ]
  },
  {
   "cell_type": "code",
   "execution_count": null,
   "metadata": {},
   "outputs": [],
   "source": [
    "timer_results = list()\n",
    "for text in text_data:\n",
    "    res=%timeit -r 1 -o -q requests.post(scoring_url, data=text, headers=headers)\n",
    "    timer_results.append(res.best)"
   ]
  },
  {
   "cell_type": "code",
   "execution_count": null,
   "metadata": {},
   "outputs": [],
   "source": [
    "timer_results"
   ]
  },
  {
   "cell_type": "code",
   "execution_count": null,
   "metadata": {},
   "outputs": [],
   "source": [
    "print(\"Average time taken: {0:4.2f} ms\".format(10 ** 3 * np.mean(timer_results)))"
   ]
  },
  {
   "cell_type": "markdown",
   "metadata": {},
   "source": [
    "# Issue\n",
    "\n",
    "- No smooth flow to configure edge device - any automatic method?\n",
    "- The port 5001 must be open from Azure portal. How to open it automatically?\n",
    "- install az-cli iot extension - must use `sudo -i` - no documentation\n",
    "   \n",
    "   !sudo -i az extension add --name azure-cli-iot-ext\n"
   ]
  }
 ],
 "metadata": {
  "authors": [
   {
    "name": "raymondl"
   }
  ],
  "kernelspec": {
   "display_name": "Python [conda env:MLAKSDeployAML]",
   "language": "python",
   "name": "conda-env-MLAKSDeployAML-py"
  },
  "language_info": {
   "codemirror_mode": {
    "name": "ipython",
    "version": 3
   },
   "file_extension": ".py",
   "mimetype": "text/x-python",
   "name": "python",
   "nbconvert_exporter": "python",
   "pygments_lexer": "ipython3",
   "version": "3.6.2"
  }
 },
 "nbformat": 4,
 "nbformat_minor": 2
}
