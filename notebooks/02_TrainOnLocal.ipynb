{
  "cells": [
    {
      "metadata": {},
      "cell_type": "markdown",
      "source": "Copyright (c) Microsoft Corporation. All rights reserved.\n\nLicensed under the MIT License."
    },
    {
      "metadata": {},
      "cell_type": "markdown",
      "source": "# Train Locally\nIn this notebook, you will perform the following using Azure Machine Learning.\n* Load workspace.\n* Configure & execute a local run in a user-managed Python environment.\n* Configure & execute a local run in a system-managed Python environment.\n* Configure & execute a local run in a Docker environment.\n* Register model for operationalization."
    },
    {
      "metadata": {
        "trusted": false
      },
      "cell_type": "code",
      "source": "import os\n\nfrom azure_utils.machine_learning.utils import get_workspace_from_config\nfrom azureml.core import Experiment\nfrom azureml.core import ScriptRunConfig\nfrom azureml.core.conda_dependencies import CondaDependencies\nfrom azureml.core.runconfig import RunConfiguration",
      "execution_count": null,
      "outputs": []
    },
    {
      "metadata": {},
      "cell_type": "markdown",
      "source": "## Initialize Model Hyperparameters"
    },
    {
      "metadata": {
        "tags": [
          "parameters"
        ]
      },
      "cell_type": "markdown",
      "source": "This notebook uses a training script that uses \n[lightgbm](https://lightgbm.readthedocs.io/en/latest/Python-API.html#scikit-learn-api). \nHere we set the number of estimators. "
    },
    {
      "metadata": {
        "trusted": true
      },
      "cell_type": "code",
      "source": "num_estimators = \"10\"",
      "execution_count": null,
      "outputs": []
    },
    {
      "metadata": {},
      "cell_type": "markdown",
      "source": "## Initialize Workspace\n\nInitialize a workspace object from persisted configuration file."
    },
    {
      "metadata": {
        "trusted": true
      },
      "cell_type": "code",
      "source": "ws = get_workspace_from_config()\nprint(ws.name, ws.resource_group, ws.location, sep=\"\\n\")",
      "execution_count": null,
      "outputs": []
    },
    {
      "metadata": {},
      "cell_type": "markdown",
      "source": "## Create An Experiment\n**Experiment** is a logical container in an Azure ML Workspace. It hosts run records which can include run metrics \nand output artifacts from your experiments."
    },
    {
      "metadata": {
        "trusted": true
      },
      "cell_type": "code",
      "source": "experiment_name = \"mlaks-train-on-local\"\nexp = Experiment(workspace=ws, name=experiment_name)",
      "execution_count": null,
      "outputs": []
    },
    {
      "metadata": {},
      "cell_type": "markdown",
      "source": "## Configure & Run"
    },
    {
      "metadata": {},
      "cell_type": "markdown",
      "source": "In this section, we show three different ways of locally training your model through Azure ML SDK for demonstration \npurposes. Only one of these runs is sufficient to register the model."
    },
    {
      "metadata": {},
      "cell_type": "markdown",
      "source": "\n### User-managed environment\nBelow, we use a user-managed run, which means you are responsible to ensure all the necessary packages that are \navailable in the Python environment you choose to run the script. We will use the environment created for this \ntutorial which has Azure ML SDK and other dependencies installed."
    },
    {
      "metadata": {
        "trusted": true
      },
      "cell_type": "code",
      "source": "# Editing a run configuration property on-fly.\nrun_config_user_managed = RunConfiguration()\n\nrun_config_user_managed.environment.python.user_managed_dependencies = True\n\n# Choose the specific Python environment of this tutorial by pointing to the Python path\nrun_config_user_managed.environment.python.interpreter_path = (\n    \"/anaconda/envs/az-ml-realtime-score/bin/python\"\n)",
      "execution_count": null,
      "outputs": []
    },
    {
      "metadata": {},
      "cell_type": "markdown",
      "source": "#### Submit script to run in the user-managed environment\nNote that the whole `scripts` folder is submitted for execution, including the `item_selector.py` and `label_rank.py` \nfiles. The model will be written to `outputs` directory which is a special directory such that all content in this \ndirectory is automatically uploaded to your workspace. "
    },
    {
      "metadata": {
        "trusted": false
      },
      "cell_type": "code",
      "source": "scrpt = \"create_model.py\"\nargs = [\n    \"--inputs\",\n    os.path.abspath(\"./data_folder\"),\n    \"--outputs\",\n    \"outputs\",\n    \"--estimators\",\n    num_estimators,\n    \"--match\",\n    \"5\",\n]",
      "execution_count": null,
      "outputs": []
    },
    {
      "metadata": {
        "trusted": true
      },
      "cell_type": "code",
      "source": "src = ScriptRunConfig(\n    source_directory=\"./scripts\",\n    script=scrpt,\n    arguments=args,\n    run_config=run_config_user_managed,\n)\n#run = exp.submit(src)",
      "execution_count": null,
      "outputs": []
    },
    {
      "metadata": {},
      "cell_type": "markdown",
      "source": "#### Get run history details"
    },
    {
      "metadata": {
        "trusted": true
      },
      "cell_type": "code",
      "source": "#run",
      "execution_count": null,
      "outputs": []
    },
    {
      "metadata": {},
      "cell_type": "markdown",
      "source": "Block to wait till run finishes."
    },
    {
      "metadata": {},
      "cell_type": "markdown",
      "source": ""
    },
    {
      "metadata": {
        "pycharm": {
          "name": "#%% md\n"
        },
        "trusted": true
      },
      "cell_type": "code",
      "source": "#run.wait_for_completion(show_output=True)",
      "execution_count": null,
      "outputs": []
    },
    {
      "metadata": {},
      "cell_type": "markdown",
      "source": "Let's check that the model is now available in your workspace."
    },
    {
      "metadata": {
        "pycharm": {
          "name": "#%% md\n"
        },
        "trusted": true
      },
      "cell_type": "code",
      "source": "#run.get_file_names()",
      "execution_count": null,
      "outputs": []
    },
    {
      "metadata": {},
      "cell_type": "markdown",
      "source": "Let's retrieve the accuracy of the model from run logs by querying the run metrics."
    },
    {
      "metadata": {
        "pycharm": {
          "name": "#%% md\n"
        },
        "trusted": true
      },
      "cell_type": "code",
      "source": "#run.get_metrics()",
      "execution_count": null,
      "outputs": []
    },
    {
      "metadata": {
        "pycharm": {
          "name": "#%%\n"
        }
      },
      "cell_type": "markdown",
      "source": "### System-managed environment\nYou can also ask the system to build a new conda environment and execute your scripts in it. The environment is built \nonce and will be reused in subsequent executions as long as the conda dependencies remain unchanged. "
    },
    {
      "metadata": {
        "pycharm": {
          "name": "#%% md\n"
        },
        "trusted": true
      },
      "cell_type": "code",
      "source": "run_config_system_managed = RunConfiguration()\nrun_config_system_managed.environment.python.user_managed_dependencies = False\nrun_config_system_managed.auto_prepare_environment = True",
      "execution_count": null,
      "outputs": []
    },
    {
      "metadata": {},
      "cell_type": "markdown",
      "source": "Let's specify the conda and pip dependencies."
    },
    {
      "metadata": {
        "pycharm": {
          "name": "#%%\n"
        },
        "trusted": false
      },
      "cell_type": "code",
      "source": "# Specify conda dependencies with scikit-learn and pandas\nconda_pack = [\"scikit-learn==0.19.1\", \"pandas==0.23.3\"]\nrequirements = [\"lightgbm==2.1.2\", \"azureml-defaults==1.0.57\"]",
      "execution_count": null,
      "outputs": []
    },
    {
      "metadata": {
        "pycharm": {
          "name": "#%% md\n"
        },
        "trusted": true
      },
      "cell_type": "code",
      "source": "cd = CondaDependencies.create(conda_packages=conda_pack, pip_packages=requirements)\nrun_config_system_managed.environment.python.conda_dependencies = cd",
      "execution_count": null,
      "outputs": []
    },
    {
      "metadata": {
        "pycharm": {
          "name": "#%%\n"
        }
      },
      "cell_type": "markdown",
      "source": "#### Submit script to run in the system-managed environment\nA new conda environment is built based on the conda dependencies object. If you are running this for the first time,  \nthis might take up to 5 minutes. But this conda environment is reused so long as you don't change the conda \ndependencies."
    },
    {
      "metadata": {
        "pycharm": {
          "name": "#%% md\n"
        },
        "trusted": true
      },
      "cell_type": "code",
      "source": "src = ScriptRunConfig(\n    source_directory=\"./scripts\",\n    script=scrpt,\n    arguments=args,\n    run_config=run_config_system_managed,\n)\nrun = exp.submit(src)\nrun",
      "execution_count": null,
      "outputs": []
    },
    {
      "metadata": {
        "pycharm": {
          "name": "#%%\n"
        }
      },
      "cell_type": "markdown",
      "source": "Block and wait till run finishes."
    },
    {
      "metadata": {
        "pycharm": {
          "name": "#%% md\n"
        },
        "trusted": true
      },
      "cell_type": "code",
      "source": "run.wait_for_completion(show_output = True)",
      "execution_count": null,
      "outputs": []
    },
    {
      "metadata": {
        "pycharm": {
          "name": "#%%\n"
        },
        "trusted": false
      },
      "cell_type": "code",
      "source": "run.get_file_names()",
      "execution_count": null,
      "outputs": []
    },
    {
      "metadata": {
        "pycharm": {
          "name": "#%% md\n"
        },
        "trusted": true
      },
      "cell_type": "code",
      "source": "run.get_metrics()",
      "execution_count": null,
      "outputs": []
    },
    {
      "metadata": {
        "pycharm": {
          "name": "#%%\n"
        }
      },
      "cell_type": "markdown",
      "source": "### Docker-based execution\n**IMPORTANT**: You must have Docker engine installed locally in order to use this execution mode. If your kernel is \nalready running in a Docker container, such as **Azure Notebooks**, this mode will **NOT** work.\n\nYou can also ask the system to pull down a Docker image and execute your scripts in it. We will use the \n`continuumio/miniconda3` image for that purpose."
    },
    {
      "metadata": {
        "pycharm": {
          "name": "#%% md\n"
        },
        "trusted": true
      },
      "cell_type": "code",
      "source": "run_config_docker = RunConfiguration()\nrun_config_docker.environment.python.user_managed_dependencies = False\nrun_config_docker.auto_prepare_environment = True\nrun_config_docker.environment.docker.enabled = True\nrun_config_docker.environment.docker.base_image = \"continuumio/miniconda3\"\n\n# Specify conda and pip dependencies\ncd = CondaDependencies.create(conda_packages=conda_pack, pip_packages=requirements)\nrun_config_docker.environment.python.conda_dependencies = cd",
      "execution_count": null,
      "outputs": []
    },
    {
      "metadata": {},
      "cell_type": "markdown",
      "source": "Here, we map the local `data_folder` that includes the training and testing data to the docker container using `-v` \nflag."
    },
    {
      "metadata": {
        "pycharm": {
          "name": "#%% md\n"
        },
        "trusted": true
      },
      "cell_type": "code",
      "source": "host_dir = os.path.abspath(\"./data_folder\")\ncontainer_dir = \"/data_folder\"\ndocker_arg = \"{}:{}\".format(host_dir, container_dir)",
      "execution_count": null,
      "outputs": []
    },
    {
      "metadata": {},
      "cell_type": "markdown",
      "source": "This time the run will use the mapped `data_folder` inside the docker container to find the data files."
    },
    {
      "metadata": {
        "trusted": false
      },
      "cell_type": "code",
      "source": "args = [\n    \"--inputs\",\n    \"/data_folder\",\n    \"--outputs\",\n    \"outputs\",\n    \"--estimators\",\n    num_estimators,\n    \"--match\",\n    \"5\",\n]",
      "execution_count": null,
      "outputs": []
    },
    {
      "metadata": {
        "trusted": false
      },
      "cell_type": "code",
      "source": "run_config_docker.environment.docker.arguments.append(\"-v\")\nrun_config_docker.environment.docker.arguments.append(docker_arg)",
      "execution_count": null,
      "outputs": []
    },
    {
      "metadata": {
        "pycharm": {
          "name": "#%%\n"
        },
        "trusted": false
      },
      "cell_type": "code",
      "source": "src = ScriptRunConfig(\n    source_directory=\"./scripts\",\n    script=scrpt,\n    arguments=args,\n    run_config=run_config_docker,\n)",
      "execution_count": null,
      "outputs": []
    },
    {
      "metadata": {
        "pycharm": {
          "name": "#%%\n"
        },
        "trusted": false
      },
      "cell_type": "code",
      "source": "run = exp.submit(src)",
      "execution_count": null,
      "outputs": []
    },
    {
      "metadata": {
        "trusted": false
      },
      "cell_type": "code",
      "source": "run.wait_for_completion(show_output=True)",
      "execution_count": null,
      "outputs": []
    },
    {
      "metadata": {},
      "cell_type": "markdown",
      "source": "## Register Model"
    },
    {
      "metadata": {
        "trusted": true
      },
      "cell_type": "code",
      "source": "run.get_metrics()",
      "execution_count": null,
      "outputs": []
    },
    {
      "metadata": {},
      "cell_type": "markdown",
      "source": "## Register Model"
    },
    {
      "metadata": {},
      "cell_type": "markdown",
      "source": "We now register the model with the workspace so that we can later deploy the model."
    },
    {
      "metadata": {
        "trusted": false
      },
      "cell_type": "code",
      "source": "# supply a model name, and the full path to the serialized model file.\nmodel = run.register_model(\n    model_name=\"question_match_model\", model_path=\"./outputs/model.pkl\"\n)",
      "execution_count": null,
      "outputs": []
    },
    {
      "metadata": {
        "trusted": false
      },
      "cell_type": "code",
      "source": "print(model.name, model.version, model.url, sep=\"\\n\")",
      "execution_count": null,
      "outputs": []
    }
  ],
  "metadata": {
    "authors": [
      {
        "name": "roastala"
      }
    ],
    "kernelspec": {
      "name": "python36",
      "display_name": "Python 3.6",
      "language": "python"
    },
    "language_info": {
      "mimetype": "text/x-python",
      "nbconvert_exporter": "python",
      "name": "python",
      "pygments_lexer": "ipython3",
      "version": "3.6.2",
      "file_extension": ".py",
      "codemirror_mode": {
        "version": 3,
        "name": "ipython"
      }
    },
    "pycharm": {
      "stem_cell": {
        "cell_type": "raw",
        "source": [],
        "metadata": {
          "collapsed": false
        }
      }
    }
  },
  "nbformat": 4,
  "nbformat_minor": 2
}