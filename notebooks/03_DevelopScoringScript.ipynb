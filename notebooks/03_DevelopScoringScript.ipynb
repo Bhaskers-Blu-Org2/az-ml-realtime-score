{
  "cells": [
    {
      "metadata": {},
      "cell_type": "markdown",
      "source": "Copyright (c) Microsoft Corporation. All rights reserved.\n\nLicensed under the MIT License.\n\n# Develop Scoring Script\n\nIn this notebook, we will develop the scoring script and test it locally. We will use the scoring script to create the \nweb service that will call the model for scoring."
    },
    {
      "metadata": {
        "trusted": false
      },
      "cell_type": "code",
      "source": "import sys\nimport pandas as pd\n\nfrom azure_utils.machine_learning.utils import get_workspace_from_config\nfrom azure_utils.utilities import text_to_json\nfrom azureml.core.model import Model",
      "execution_count": null,
      "outputs": []
    },
    {
      "metadata": {
        "trusted": false
      },
      "cell_type": "code",
      "source": "sys.path.append('./scripts/')",
      "execution_count": null,
      "outputs": []
    },
    {
      "metadata": {},
      "cell_type": "markdown",
      "source": "Let's load the workspace."
    },
    {
      "metadata": {
        "trusted": true
      },
      "cell_type": "code",
      "source": "ws = get_workspace_from_config()\nprint(ws.name, ws.resource_group, ws.location, sep=\"\\n\")",
      "execution_count": null,
      "outputs": []
    },
    {
      "metadata": {},
      "cell_type": "markdown",
      "source": "Let's retrieve the model registered earlier and download it."
    },
    {
      "metadata": {
        "trusted": false
      },
      "cell_type": "code",
      "source": "model_name = 'question_match_model'\n\nmodel = Model(ws, name=model_name)\nprint(model.name, model.version, model.url, sep=\"\\n\")",
      "execution_count": null,
      "outputs": []
    },
    {
      "metadata": {
        "trusted": true
      },
      "cell_type": "code",
      "source": "model.download(target_dir=\".\", exist_ok=True)",
      "execution_count": null,
      "outputs": []
    },
    {
      "metadata": {},
      "cell_type": "markdown",
      "source": "## Create Scoring Script"
    },
    {
      "metadata": {},
      "cell_type": "markdown",
      "source": "We use the writefile magic to write the contents of the below cell to `score.py` which includes the  `init` and `run` \nfunctions required by AML.\n- The init() function typically loads the model into a global object.\n- The run(input_data) function uses the model to predict a value based on the input_data."
    },
    {
      "metadata": {
        "trusted": true
      },
      "cell_type": "code",
      "source": "%%writefile score.py\n\nimport pandas as pd\nimport json\nfrom duplicate_model import DuplicateModel\nimport logging\nimport timeit as t\n\ndef init():\n    logger = logging.getLogger(\"scoring_script\")\n    global model\n    model_path = \"model.pkl\"\n    questions_path = \"./data_folder/questions.tsv\"\n    start = t.default_timer()\n    model = DuplicateModel(model_path, questions_path)\n    end = t.default_timer()\n    loadTimeMsg = \"Model loading time: {0} ms\".format(round((end-start)*1000, 2))\n    logger.info(loadTimeMsg)\n\n\ndef run(body):\n    logger = logging.getLogger(\"scoring_script\")\n    json_load_text = json.loads(body)\n    text_to_score = json_load_text[\"input\"]\n    start = t.default_timer()\n    resp = model.score(text_to_score)\n    end = t.default_timer()\n    logger.info(\"Prediction took {0} ms\".format(round((end-start)*1000, 2)))\n    return json.dumps(resp)\n",
      "execution_count": null,
      "outputs": []
    }
  ],
  "metadata": {
    "kernelspec": {
      "name": "python36",
      "display_name": "Python 3.6",
      "language": "python"
    },
    "language_info": {
      "mimetype": "text/x-python",
      "nbconvert_exporter": "python",
      "name": "python",
      "pygments_lexer": "ipython3",
      "version": "3.6.6",
      "file_extension": ".py",
      "codemirror_mode": {
        "version": 3,
        "name": "ipython"
      }
    },
    "pycharm": {
      "stem_cell": {
        "cell_type": "raw",
        "source": [],
        "metadata": {
          "collapsed": false
        }
      }
    }
  },
  "nbformat": 4,
  "nbformat_minor": 2
}