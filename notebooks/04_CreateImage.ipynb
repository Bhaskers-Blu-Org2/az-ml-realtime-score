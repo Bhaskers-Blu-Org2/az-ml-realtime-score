{
  "cells": [
    {
      "metadata": {},
      "cell_type": "markdown",
      "source": "Copyright (c) Microsoft Corporation. All rights reserved.\n\nLicensed under the MIT License.\n\n# Create Image\nIn this notebook, we show the following steps for deploying a web service using AzureML:\n- Create an image\n- Test image locally"
    },
    {
      "metadata": {
        "trusted": false
      },
      "cell_type": "code",
      "source": "from azure_utils.machine_learning.utils import load_configuration, get_workspace_from_config\nfrom azure_utils.utilities import text_to_json\nfrom azureml.core.conda_dependencies import CondaDependencies\nfrom azureml.core.model import Model\n\nimport pandas as pd",
      "execution_count": null,
      "outputs": []
    },
    {
      "metadata": {
        "pycharm": {
          "name": "#%%\n"
        }
      },
      "cell_type": "markdown",
      "source": "AML will use the following information to create an image, provision a cluster and deploy a service. Replace the \nvalues in the following cell with your information."
    },
    {
      "metadata": {
        "trusted": true
      },
      "cell_type": "code",
      "source": "cfg = load_configuration(\"../workspace_conf.yml\")",
      "execution_count": null,
      "outputs": []
    },
    {
      "metadata": {
        "pycharm": {
          "name": "#%%\n"
        },
        "tags": [
          "parameters"
        ],
        "trusted": false
      },
      "cell_type": "code",
      "source": "image_name = cfg['image_name']",
      "execution_count": null,
      "outputs": []
    },
    {
      "metadata": {
        "pycharm": {
          "name": "#%% md\n"
        }
      },
      "cell_type": "markdown",
      "source": "## Get workspace\nLoad existing workspace from the config file."
    },
    {
      "metadata": {
        "pycharm": {
          "name": "#%%\n"
        },
        "trusted": false
      },
      "cell_type": "code",
      "source": "ws = get_workspace_from_config()\nprint(ws.name, ws.resource_group, ws.location, sep=\"\\n\")",
      "execution_count": null,
      "outputs": []
    },
    {
      "metadata": {
        "pycharm": {
          "name": "#%%\n"
        }
      },
      "cell_type": "markdown",
      "source": "## Load model"
    },
    {
      "metadata": {
        "trusted": false
      },
      "cell_type": "code",
      "source": "model_name = 'question_match_model'\n\nmodel = Model(ws, name=model_name)\nprint(model.name, model.version)",
      "execution_count": null,
      "outputs": []
    },
    {
      "metadata": {},
      "cell_type": "markdown",
      "source": "## Create an image\nWe will now modify the `score.py` created in the previous notebook for the `init()` function to use the model we \nregistered to the workspace earlier."
    },
    {
      "metadata": {
        "trusted": false
      },
      "cell_type": "code",
      "source": "%%writefile score.py\n\nimport sys\nimport pandas as pd\nimport json\nfrom duplicate_model import DuplicateModel\nimport logging\nimport timeit as t\nfrom azureml.core.model import Model\nfrom azureml.contrib.services.aml_request import rawhttp\n\nsys.path.append('./scripts/')\n\n\ndef init():\n    logger = logging.getLogger(\"scoring_script\")\n    global model\n    model_name = 'question_match_model'\n    model_path = Model.get_model_path(model_name)\n    questions_path = './data_folder/questions.tsv'\n    start = t.default_timer()\n    model = DuplicateModel(model_path, questions_path)\n    end = t.default_timer()\n    loadTimeMsg = \"Model loading time: {0} ms\".format(round((end-start)*1000, 2))\n    logger.info(loadTimeMsg)\n\n@rawhttp\ndef run(request):\n    \"\"\"\n    Function runs on each request\n    \"\"\"\n    body = request.data\n    if request.method == 'POST':\n        logger = logging.getLogger(\"scoring_script\")\n        json_load_text = json.loads(body)\n        text_to_score = json_load_text['input']\n        start = t.default_timer()\n        resp = model.score(text_to_score) \n        end = t.default_timer()\n        logger.info(\"Prediction took {0} ms\".format(round((end-start)*1000, 2)))\n        return(json.dumps(resp))\n    if request.method == 'GET':\n        resp_body = {\n            \"azEnvironment\": \"Azure\",\n            \"location\": \"westus2\",\n            \"osType\": \"Ubuntu 16.04\",\n            \"resourceGroupName\": \"\",\n            \"resourceId\": \"\",\n            \"sku\": \"\",\n            \"subscriptionId\": \"\",\n            \"uniqueId\": \"PythonMLRST\",\n            \"vmSize\": \"\",\n            \"zone\": \"\",\n            \"isServer\": False,\n            \"version\": \"\"\n        }\n        return(resp_body)\n    return AMLResponse(\"bad request\", 500)",
      "execution_count": null,
      "outputs": []
    },
    {
      "metadata": {},
      "cell_type": "markdown",
      "source": "Let's specifiy the conda and pip dependencies for the image."
    },
    {
      "metadata": {
        "trusted": false
      },
      "cell_type": "code",
      "source": "conda_pack = [\"scikit-learn==0.19.1\", \"pandas==0.23.3\"]\nrequirements = [\"lightgbm==2.1.2\", \"azureml-defaults==1.0.57\", \"azureml-contrib-services\"]",
      "execution_count": null,
      "outputs": []
    },
    {
      "metadata": {
        "trusted": false
      },
      "cell_type": "code",
      "source": "lgbmenv = CondaDependencies.create(conda_packages=conda_pack, pip_packages=requirements)\n\nwith open(\"lgbmenv.yml\", \"w\") as f:\n    f.write(lgbmenv.serialize_to_string())",
      "execution_count": null,
      "outputs": []
    },
    {
      "metadata": {
        "trusted": false
      },
      "cell_type": "code",
      "source": "from azureml.core.image import ContainerImage\n\nimage_config = ContainerImage.image_configuration(\n    execution_script=\"score.py\",\n    runtime=\"python\",\n    conda_file=\"lgbmenv.yml\",\n    description=\"Image with lightgbm model\",\n    tags={\"area\": \"text\", \"type\": \"lightgbm\"},\n    dependencies=[\n        \"./data_folder/questions.tsv\",\n        \"./duplicate_model.py\",\n        \"./scripts/item_selector.py\",\n    ],\n)\n\nimage = ContainerImage.create(\n    name=image_name,\n    # this is the model object\n    models=[model],\n    image_config=image_config,\n    workspace=ws,\n)",
      "execution_count": null,
      "outputs": []
    },
    {
      "metadata": {
        "trusted": false
      },
      "cell_type": "code",
      "source": "%%time\nimage.wait_for_creation(show_output = True)",
      "execution_count": null,
      "outputs": []
    },
    {
      "metadata": {
        "trusted": false
      },
      "cell_type": "code",
      "source": "print(image.name, image.version)",
      "execution_count": null,
      "outputs": []
    },
    {
      "metadata": {
        "trusted": false
      },
      "cell_type": "code",
      "source": "image_version = str(image.version)",
      "execution_count": null,
      "outputs": []
    },
    {
      "metadata": {},
      "cell_type": "markdown",
      "source": "You can find the logs of image creation in the following location."
    },
    {
      "metadata": {
        "trusted": false
      },
      "cell_type": "code",
      "source": "image.image_build_log_uri",
      "execution_count": null,
      "outputs": []
    },
    {
      "metadata": {},
      "cell_type": "markdown",
      "source": "## Test image locally"
    },
    {
      "metadata": {},
      "cell_type": "markdown",
      "source": "Now, let's use one of the duplicate questions to test our image."
    },
    {
      "metadata": {
        "trusted": false
      },
      "cell_type": "code",
      "source": "dupes_test_path = './data_folder/dupes_test.tsv'\ndupes_test = pd.read_csv(dupes_test_path, sep='\\t', encoding='latin1')\ntext_to_score = dupes_test.iloc[0, 4]\ntext_to_score",
      "execution_count": null,
      "outputs": []
    },
    {
      "metadata": {
        "trusted": false
      },
      "cell_type": "code",
      "source": "json_text = text_to_json(text_to_score)",
      "execution_count": null,
      "outputs": []
    },
    {
      "metadata": {
        "trusted": false
      },
      "cell_type": "code",
      "source": "%%time\nimage.run(input_data=json_text)",
      "execution_count": null,
      "outputs": []
    },
    {
      "metadata": {},
      "cell_type": "markdown",
      "source": "## Conclusion\n\nWe have created a docker Image using AzureML and registred this image on Azure Container Registry (ACR). This docker \nimage encapsulates a trained machine learning model and scoring scripts. In the next step, we can take this image \nand deploy it on the compute target of your choice: Azure Kubernetes Service (AKS) Cluster or Azure IoT Edge."
    }
  ],
  "metadata": {
    "authors": [
      {
        "name": "raymondl"
      }
    ],
    "kernelspec": {
      "name": "python3",
      "display_name": "Python 3",
      "language": "python"
    },
    "language_info": {
      "mimetype": "text/x-python",
      "nbconvert_exporter": "python",
      "name": "python",
      "pygments_lexer": "ipython3",
      "version": "3.5.4",
      "file_extension": ".py",
      "codemirror_mode": {
        "version": 3,
        "name": "ipython"
      }
    },
    "pycharm": {
      "stem_cell": {
        "cell_type": "raw",
        "metadata": {
          "collapsed": false
        },
        "source": []
      }
    }
  },
  "nbformat": 4,
  "nbformat_minor": 2
}