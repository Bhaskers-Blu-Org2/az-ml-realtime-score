{
 "cells": [
  {
   "cell_type": "markdown",
   "metadata": {},
   "source": [
    "Copyright (c) Microsoft Corporation. All rights reserved.\n",
    "\n",
    "Licensed under the MIT License.\n",
    "\n",
    "# Create Image\n",
    "In this notebook, we show the following steps for deploying a web service using AzureML:\n",
    "- Create an image\n",
    "- Test image locally"
   ]
  },
  {
   "cell_type": "code",
   "execution_count": null,
   "metadata": {},
   "outputs": [],
   "source": [
    "from azure_utils.machine_learning.utils import load_configuration, get_workspace_from_config\n",
    "from azure_utils.utilities import text_to_json\n",
    "from azureml.core.conda_dependencies import CondaDependencies\n",
    "from azureml.core.model import Model\n",
    "from notebooks import DIRECTORY\n",
    "\n",
    "import pandas as pd"
   ]
  },
  {
   "cell_type": "markdown",
   "metadata": {
    "pycharm": {
     "name": "#%%\n"
    }
   },
   "source": [
    "AML will use the following information to create an image, provision a cluster and deploy a service. Replace the \n",
    "values in the following cell with your information."
   ]
  },
  {
   "cell_type": "code",
   "execution_count": null,
   "metadata": {},
   "outputs": [],
   "source": [
    "cfg = load_configuration(\"../workspace_conf.yml\")"
   ]
  },
  {
   "cell_type": "code",
   "execution_count": null,
   "metadata": {
    "pycharm": {
     "name": "#%%\n"
    },
    "tags": [
     "parameters"
    ]
   },
   "outputs": [],
   "source": [
    "image_name = cfg['image_name']"
   ]
  },
  {
   "cell_type": "markdown",
   "metadata": {
    "pycharm": {
     "name": "#%% md\n"
    }
   },
   "source": [
    "## Get workspace\n",
    "Load existing workspace from the config file."
   ]
  },
  {
   "cell_type": "code",
   "execution_count": null,
   "metadata": {
    "pycharm": {
     "name": "#%%\n"
    }
   },
   "outputs": [],
   "source": [
    "ws = get_workspace_from_config()\n",
    "print(ws.name, ws.resource_group, ws.location, sep=\"\\n\")"
   ]
  },
  {
   "cell_type": "markdown",
   "metadata": {
    "pycharm": {
     "name": "#%%\n"
    }
   },
   "source": [
    "## Load model"
   ]
  },
  {
   "cell_type": "code",
   "execution_count": null,
   "metadata": {},
   "outputs": [],
   "source": [
    "model_name = 'question_match_model'\n",
    "\n",
    "model = Model(ws, name=model_name)\n",
    "print(model.name, model.version)"
   ]
  },
  {
   "cell_type": "markdown",
   "metadata": {},
   "source": [
    "## Create an image\n",
    "We will now modify the `score.py` created in the previous notebook for the `init()` function to use the model we \n",
    "registered to the workspace earlier."
   ]
  },
  {
   "cell_type": "code",
   "execution_count": null,
   "metadata": {},
   "outputs": [],
   "source": [
    "%%writefile score.py\n",
    "\n",
    "import sys\n",
    "import pandas as pd\n",
    "import json\n",
    "import logging\n",
    "import timeit as t\n",
    "from sklearn.externals import joblib\n",
    "from azureml.core.model import Model\n",
    "from azureml.contrib.services.aml_request import rawhttp\n",
    "from sklearn.base import BaseEstimator, TransformerMixin\n",
    "\n",
    "sys.path.append('./scripts/')\n",
    "\n",
    "\n",
    "def init():\n",
    "    logger = logging.getLogger(\"scoring_script\")\n",
    "    global model\n",
    "    model_name = 'question_match_model'\n",
    "    model_path = Model.get_model_path(model_name)\n",
    "    questions_path = '/data_folder/questions.tsv'\n",
    "    start = t.default_timer()\n",
    "    model = DuplicateModel(model_path, questions_path)\n",
    "    end = t.default_timer()\n",
    "    loadTimeMsg = \"Model loading time: {0} ms\".format(\n",
    "        round((end - start) * 1000, 2))\n",
    "    logger.info(loadTimeMsg)\n",
    "\n",
    "\n",
    "@rawhttp\n",
    "def run(request):\n",
    "    \"\"\"\n",
    "    Function runs on each request\n",
    "    \"\"\"\n",
    "    body = request.data\n",
    "    if request.method == 'POST':\n",
    "        logger = logging.getLogger(\"scoring_script\")\n",
    "        json_load_text = json.loads(body)\n",
    "        text_to_score = json_load_text['input']\n",
    "        start = t.default_timer()\n",
    "        resp = model.score(text_to_score)\n",
    "        end = t.default_timer()\n",
    "        logger.info(\"Prediction took {0} ms\".format(\n",
    "            round((end - start) * 1000, 2)))\n",
    "        return (json.dumps(resp))\n",
    "    if request.method == 'GET':\n",
    "        resp_body = {\n",
    "            \"azEnvironment\": \"Azure\",\n",
    "            \"location\": \"westus2\",\n",
    "            \"osType\": \"Ubuntu 16.04\",\n",
    "            \"resourceGroupName\": \"\",\n",
    "            \"resourceId\": \"\",\n",
    "            \"sku\": \"\",\n",
    "            \"subscriptionId\": \"\",\n",
    "            \"uniqueId\": \"PythonMLRST\",\n",
    "            \"vmSize\": \"\",\n",
    "            \"zone\": \"\",\n",
    "            \"isServer\": False,\n",
    "            \"version\": \"\"\n",
    "        }\n",
    "        return (resp_body)\n",
    "    return AMLResponse(\"bad request\", 500)\n",
    "\n",
    "\n",
    "class DuplicateModel(object):\n",
    "\n",
    "    questions_cols = ['Id', 'AnswerId', 'Text']\n",
    "    dup_col = 'Text_x'\n",
    "    id_col = 'Id_y'\n",
    "    answerId_col = 'AnswerId_y'\n",
    "    orig_col = 'Text_y'\n",
    "    feature_cols = [dup_col, orig_col]\n",
    "    probabilities_col = 'probabilities'\n",
    "\n",
    "    def __init__(self, model_path, questions_path):\n",
    "        self.model_path = model_path\n",
    "        self.questions_path = questions_path\n",
    "        self.model = joblib.load(model_path)\n",
    "        self.questions = pd.read_csv(questions_path, sep='\\t',\n",
    "                                     encoding='latin1')\n",
    "        self.questions = self.questions[self.questions_cols]\n",
    "        self.questions.columns = [\n",
    "            self.id_col, self.answerId_col, self.orig_col]\n",
    "\n",
    "    def score(self, Text):\n",
    "        # Create a scoring dataframe.\n",
    "        test = self.questions.copy()\n",
    "        test[self.dup_col] = Text\n",
    "        test_X = test[self.feature_cols]\n",
    "\n",
    "        # Score the text.\n",
    "        test[self.probabilities_col] = self.model.predict_proba(\n",
    "            test_X)[:, 1]\n",
    "\n",
    "        # Order the data by descending probability.\n",
    "        test.sort_values(by=self.probabilities_col, ascending=False,\n",
    "                         inplace=True)\n",
    "\n",
    "        # Extract the original question ids, answer ids, and probabilities.\n",
    "        scores = test[[self.id_col, self.answerId_col, self.probabilities_col]]\n",
    "        pairs = [x[1:] for x in scores.itertuples()]\n",
    "\n",
    "        # Return the result.\n",
    "        return pairs\n",
    "\n",
    "\n",
    "class ItemSelector(BaseEstimator, TransformerMixin):\n",
    "    \"\"\"For data grouped by feature, select subset of data at provided\n",
    "    key(s).\n",
    "\n",
    "    The data are expected to be stored in a 2D data structure, where\n",
    "    the first index is over features and the second is over samples,\n",
    "    i.e.\n",
    "\n",
    "    >> len(data[keys]) == n_samples\n",
    "\n",
    "    Please note that this is the opposite convention to scikit-learn\n",
    "    feature matrixes (where the first index corresponds to sample).\n",
    "\n",
    "    ItemSelector only requires that the collection implement getitem\n",
    "    (data[keys]).  Examples include: a dict of lists, 2D numpy array,\n",
    "    Pandas DataFrame, numpy record array, etc.\n",
    "\n",
    "    >> data = {'a': [1, 5, 2, 5, 2, 8],\n",
    "               'b': [9, 4, 1, 4, 1, 3]}\n",
    "    >> ds = ItemSelector(key='a')\n",
    "    >> data['a'] == ds.transform(data)\n",
    "\n",
    "    ItemSelector is not designed to handle data grouped by sample\n",
    "    (e.g. a list of dicts).  If your data are structured this way,\n",
    "    consider a transformer along the lines of\n",
    "    `sklearn.feature_extraction.DictVectorizer`.\n",
    "\n",
    "    Parameters\n",
    "    ----------\n",
    "    keys : hashable or list of hashable, required\n",
    "        The key(s) corresponding to the desired value(s) in a mappable.\n",
    "\n",
    "    \"\"\"\n",
    "\n",
    "    def __init__(self, keys):\n",
    "        if type(keys) is list:\n",
    "            if any([getattr(key, '__hash__', None) is None for key in keys]):\n",
    "                raise TypeError('Not all keys are hashable')\n",
    "        elif getattr(keys, '__hash__', None) is None:\n",
    "            raise TypeError('keys is not hashable')\n",
    "        self.keys = keys\n",
    "\n",
    "    def fit(self, x, *args, **kwargs):\n",
    "        if type(self.keys) is list:\n",
    "            if not all([key in x for key in self.keys]):\n",
    "                raise KeyError('Not all keys in data')\n",
    "        elif self.keys not in x:\n",
    "            raise KeyError('key not in data')\n",
    "        return self\n",
    "\n",
    "    def transform(self, data_dict, *args, **kwargs):\n",
    "        return data_dict[self.keys]\n",
    "\n",
    "    def get_feature_names(self):\n",
    "        return self.keys\n"
   ]
  },
  {
   "cell_type": "markdown",
   "metadata": {},
   "source": [
    "Let's specifiy the conda and pip dependencies for the image."
   ]
  },
  {
   "cell_type": "code",
   "execution_count": null,
   "metadata": {},
   "outputs": [],
   "source": [
    "conda_pack = [\"scikit-learn==0.19.1\", \"pandas==0.23.3\"]\n",
    "requirements = [\n",
    "    \"lightgbm==2.1.2\", \"azureml-defaults==1.0.57\", \"azureml-contrib-services\"\n",
    "]"
   ]
  },
  {
   "cell_type": "code",
   "execution_count": null,
   "metadata": {},
   "outputs": [],
   "source": [
    "lgbmenv = CondaDependencies.create(conda_packages=conda_pack,\n",
    "                                   pip_packages=requirements)\n",
    "\n",
    "with open(\"lgbmenv.yml\", \"w\") as f:\n",
    "    f.write(lgbmenv.serialize_to_string())"
   ]
  },
  {
   "cell_type": "code",
   "execution_count": null,
   "metadata": {},
   "outputs": [],
   "source": [
    "from azureml.core.image import ContainerImage\n",
    "\n",
    "image_config = ContainerImage.image_configuration(\n",
    "    execution_script=\"score.py\",\n",
    "    runtime=\"python\",\n",
    "    conda_file=\"lgbmenv.yml\",\n",
    "    description=\"Image with lightgbm model\",\n",
    "    tags={\n",
    "        \"area\": \"text\",\n",
    "        \"type\": \"lightgbm\"\n",
    "    },\n",
    "    dependencies=[\n",
    "        DIRECTORY + \"/data_folder/questions.tsv\",\n",
    "        DIRECTORY + \"/duplicate_model.py\",\n",
    "        DIRECTORY + \"/scripts/item_selector.py\",\n",
    "    ],\n",
    ")\n",
    "\n",
    "image = ContainerImage.create(\n",
    "    name=image_name,\n",
    "    # this is the model object\n",
    "    models=[model],\n",
    "    image_config=image_config,\n",
    "    workspace=ws,\n",
    ")"
   ]
  },
  {
   "cell_type": "code",
   "execution_count": null,
   "metadata": {},
   "outputs": [],
   "source": [
    "%%time\n",
    "image.wait_for_creation(show_output=True)"
   ]
  },
  {
   "cell_type": "code",
   "execution_count": null,
   "metadata": {},
   "outputs": [],
   "source": [
    "print(image.name, image.version)"
   ]
  },
  {
   "cell_type": "code",
   "execution_count": null,
   "metadata": {},
   "outputs": [],
   "source": [
    "image_version = str(image.version)"
   ]
  },
  {
   "cell_type": "markdown",
   "metadata": {},
   "source": [
    "You can find the logs of image creation in the following location."
   ]
  },
  {
   "cell_type": "code",
   "execution_count": null,
   "metadata": {},
   "outputs": [],
   "source": [
    "image.image_build_log_uri"
   ]
  },
  {
   "cell_type": "markdown",
   "metadata": {},
   "source": [
    "## Test image locally"
   ]
  },
  {
   "cell_type": "markdown",
   "metadata": {},
   "source": [
    "Now, let's use one of the duplicate questions to test our image."
   ]
  },
  {
   "cell_type": "code",
   "execution_count": null,
   "metadata": {},
   "outputs": [],
   "source": [
    "dupes_test_path = DIRECTORY + '/data_folder/dupes_test.tsv'\n",
    "dupes_test = pd.read_csv(dupes_test_path, sep='\\t', encoding='latin1')\n",
    "text_to_score = dupes_test.iloc[0, 4]\n",
    "text_to_score"
   ]
  },
  {
   "cell_type": "code",
   "execution_count": null,
   "metadata": {},
   "outputs": [],
   "source": [
    "json_text = text_to_json(text_to_score)"
   ]
  },
  {
   "cell_type": "code",
   "execution_count": null,
   "metadata": {},
   "outputs": [],
   "source": [
    "%%time\n",
    "image.run(input_data=json_text)"
   ]
  },
  {
   "cell_type": "markdown",
   "metadata": {},
   "source": [
    "## Conclusion\n",
    "\n",
    "We have created a docker Image using AzureML and registred this image on Azure Container Registry (ACR). This docker \n",
    "image encapsulates a trained machine learning model and scoring scripts. In the next step, we can take this image \n",
    "and deploy it on the compute target of your choice: Azure Kubernetes Service (AKS) Cluster or Azure IoT Edge."
   ]
  }
 ],
 "metadata": {
  "authors": [
   {
    "name": "raymondl"
   }
  ],
  "kernelspec": {
   "display_name": "az-ml-realtime-score",
   "language": "python",
   "name": "az-ml-realtime-score"
  },
  "language_info": {
   "codemirror_mode": {
    "name": "ipython",
    "version": 3
   },
   "file_extension": ".py",
   "mimetype": "text/x-python",
   "name": "python",
   "nbconvert_exporter": "python",
   "pygments_lexer": "ipython3",
   "version": "3.6.2"
  },
  "pycharm": {
   "stem_cell": {
    "cell_type": "raw",
    "metadata": {
     "collapsed": false
    },
    "source": []
   }
  }
 },
 "nbformat": 4,
 "nbformat_minor": 2
}
