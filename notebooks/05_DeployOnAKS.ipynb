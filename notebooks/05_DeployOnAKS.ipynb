{
  "cells": [
    {
      "metadata": {},
      "cell_type": "markdown",
      "source": "Copyright (c) Microsoft Corporation. All rights reserved.\n\nLicensed under the MIT License."
    },
    {
      "metadata": {},
      "cell_type": "markdown",
      "source": "# Deploying a web service to Azure Kubernetes Service (AKS)\nIn this notebook, we show the following steps for deploying a web service using AzureML:\n- Provision an AKS cluster (one time action)\n- Deploy the service\n- Test the web service\n- Scale up the service"
    },
    {
      "metadata": {
        "trusted": false
      },
      "cell_type": "code",
      "source": "import json\nimport os\nimport subprocess\n\nimport numpy as np\nimport pandas as pd\nimport requests\nfrom MetricsUtils.hpStatisticsCollection import statisticsCollector, CollectionEntry\nfrom azure_utils.machine_learning.utils import load_configuration\nfrom azure_utils.utilities import text_to_json\nfrom azureml.core.compute import AksCompute, ComputeTarget\nfrom azureml.core.webservice import Webservice, AksWebservice\nfrom azure_utils.machine_learning.utils import get_workspace_from_config\n",
      "execution_count": null,
      "outputs": []
    },
    {
      "metadata": {},
      "cell_type": "markdown",
      "source": "AML will use the following information to create an image, provision a cluster and deploy a service. Replace the \nvalues in the following cell with your information."
    },
    {
      "metadata": {
        "pycharm": {
          "name": "#%%\n"
        },
        "trusted": false
      },
      "cell_type": "code",
      "source": "cfg = load_configuration(\"../workspace_conf.yml\")",
      "execution_count": null,
      "outputs": []
    },
    {
      "metadata": {
        "trusted": false,
        "tags": [
          "parameters"
        ]
      },
      "cell_type": "code",
      "source": "image_name = cfg['image_name']\naks_service_name = cfg['aks_service_name']\naks_name = cfg['aks_name']\naks_location = cfg['workspace_region']",
      "execution_count": null,
      "outputs": []
    },
    {
      "metadata": {},
      "cell_type": "markdown",
      "source": "## Get workspace\nLoad existing workspace from the config file."
    },
    {
      "metadata": {
        "trusted": true
      },
      "cell_type": "code",
      "source": "ws = get_workspace_from_config()\nprint(ws.name, ws.resource_group, ws.location, sep=\"\\n\")",
      "execution_count": null,
      "outputs": []
    },
    {
      "metadata": {
        "trusted": false
      },
      "cell_type": "code",
      "source": "image = ws.images[image_name]",
      "execution_count": null,
      "outputs": []
    },
    {
      "metadata": {},
      "cell_type": "markdown",
      "source": "Restore the statistics data."
    },
    {
      "metadata": {},
      "cell_type": "markdown",
      "source": "## Provision the AKS Cluster\nThis is a one time setup. You can reuse this cluster for multiple deployments after it has been created. If you delete \nthe cluster or the resource group that contains it, then you would have to recreate it. Let's first check if there are \nenough cores in the subscription for the cluster ."
    },
    {
      "metadata": {
        "trusted": false
      },
      "cell_type": "code",
      "source": "vm_family = \"Dv2\"\nvm_size = \"Standard_D4_v2\"\nvm_cores = 8\nnode_count = 4",
      "execution_count": null,
      "outputs": []
    },
    {
      "metadata": {
        "trusted": false
      },
      "cell_type": "code",
      "source": "vm_dict = {\n    vm_family: {\n        \"size\": vm_size,\n        \"cores\": vm_cores\n    }\n}",
      "execution_count": null,
      "outputs": []
    },
    {
      "metadata": {
        "trusted": false
      },
      "cell_type": "code",
      "source": "requested_cores = node_count * vm_dict[vm_family][\"cores\"]",
      "execution_count": null,
      "outputs": []
    },
    {
      "metadata": {
        "trusted": false
      },
      "cell_type": "code",
      "source": "results = subprocess.run([\n    \"az\", \"vm\", \"list-usage\", \n    \"--location\", aks_location, \n    \"--query\", \"[?contains(localName, '%s')].{max:limit, current:currentValue}\" % (vm_family)\n], stdout=subprocess.PIPE)\nquota = json.loads(''.join(results.stdout.decode('utf-8')))\ndiff = int(quota[0]['max']) - int(quota[0]['current'])",
      "execution_count": null,
      "outputs": []
    },
    {
      "metadata": {
        "trusted": false
      },
      "cell_type": "code",
      "source": "prov_config = AksCompute.provisioning_configuration(\n    agent_count=node_count, vm_size=vm_size, location=aks_location\n)\n\n# Create the cluster\naks_target = ComputeTarget.create(\n    workspace=ws, name=aks_name, provisioning_configuration=prov_config\n)",
      "execution_count": null,
      "outputs": []
    },
    {
      "metadata": {
        "trusted": true
      },
      "cell_type": "code",
      "source": "%%time\naks_target.wait_for_completion(show_output = True)\nprint(aks_target.provisioning_state)\nprint(aks_target.provisioning_errors)",
      "execution_count": null,
      "outputs": []
    },
    {
      "metadata": {},
      "cell_type": "markdown",
      "source": "Let's check that the cluster is created successfully."
    },
    {
      "metadata": {
        "trusted": false
      },
      "cell_type": "code",
      "source": "aks_status = aks_target.get_status()",
      "execution_count": null,
      "outputs": []
    },
    {
      "metadata": {
        "trusted": true
      },
      "cell_type": "code",
      "source": "assert aks_status == 'Succeeded', 'AKS failed to create'",
      "execution_count": null,
      "outputs": []
    },
    {
      "metadata": {},
      "cell_type": "markdown",
      "source": "## Deploy web service to AKS"
    },
    {
      "metadata": {
        "tags": [
          "parameters"
        ]
      },
      "cell_type": "markdown",
      "source": "Next, we deploy the web service. We deploy two pods with 1 CPU core each."
    },
    {
      "metadata": {
        "trusted": false
      },
      "cell_type": "code",
      "source": "num_replicas = 2\ncpu_cores = 1",
      "execution_count": null,
      "outputs": []
    },
    {
      "metadata": {
        "trusted": false
      },
      "cell_type": "code",
      "source": "#Set the web service configuration \naks_config = AksWebservice.deploy_configuration(num_replicas=num_replicas, cpu_cores=cpu_cores)",
      "execution_count": null,
      "outputs": []
    },
    {
      "metadata": {
        "trusted": false
      },
      "cell_type": "code",
      "source": "aks_service = Webservice.deploy_from_image(\n    workspace=ws,\n    name=aks_service_name,\n    image=image,\n    deployment_config=aks_config,\n    deployment_target=aks_target,\n)",
      "execution_count": null,
      "outputs": []
    },
    {
      "metadata": {
        "trusted": true
      },
      "cell_type": "code",
      "source": "%%time\naks_service.wait_for_deployment(show_output=True)\nprint(aks_service.state)",
      "execution_count": null,
      "outputs": []
    },
    {
      "metadata": {},
      "cell_type": "markdown",
      "source": "You can check the logs of the web service with the below."
    },
    {
      "metadata": {
        "trusted": true
      },
      "cell_type": "code",
      "source": "aks_service.get_logs()",
      "execution_count": null,
      "outputs": []
    },
    {
      "metadata": {},
      "cell_type": "markdown",
      "source": "## Test the web service\nWe now test the web service."
    },
    {
      "metadata": {
        "trusted": false
      },
      "cell_type": "code",
      "source": "num_dupes_to_score = 4",
      "execution_count": null,
      "outputs": []
    },
    {
      "metadata": {
        "trusted": false
      },
      "cell_type": "code",
      "source": "dupes_test_path = './data_folder/dupes_test.tsv'\ndupes_test = pd.read_csv(dupes_test_path, sep='\\t', encoding='latin1')\ntext_to_score = dupes_test.iloc[0, num_dupes_to_score]\ntext_to_score",
      "execution_count": null,
      "outputs": []
    },
    {
      "metadata": {
        "trusted": false
      },
      "cell_type": "code",
      "source": "json_text = text_to_json(text_to_score)",
      "execution_count": null,
      "outputs": []
    },
    {
      "metadata": {
        "trusted": true
      },
      "cell_type": "code",
      "source": "%%time\nprediction = aks_service.run(input_data = json_text)\nprint(prediction)",
      "execution_count": null,
      "outputs": []
    },
    {
      "metadata": {},
      "cell_type": "markdown",
      "source": "Let's try a few more duplicate questions and display their top 3 original matches. Let's first get the scoring URL \nand API key for the web service."
    },
    {
      "metadata": {
        "trusted": true
      },
      "cell_type": "code",
      "source": "scoring_url = aks_service.scoring_uri\napi_key = aks_service.get_keys()[0]",
      "execution_count": null,
      "outputs": []
    },
    {
      "metadata": {},
      "cell_type": "markdown",
      "source": "Write the URI and key to the statistics tracker."
    },
    {
      "metadata": {
        "trusted": false
      },
      "cell_type": "code",
      "source": "headers = {'content-type': 'application/json', 'Authorization':('Bearer '+ api_key)}\nr = requests.post(scoring_url, data=json_text, headers=headers) # Run the request twice since the first time takes a \n%time r = requests.post(scoring_url, data=jsontext, headers=headers) # little longer due to the loading of the model\nprint(r)\nr.json()",
      "execution_count": null,
      "outputs": []
    },
    {
      "metadata": {
        "trusted": true
      },
      "cell_type": "code",
      "source": "dupes_to_score = dupes_test.iloc[:5,num_dupes_to_score]",
      "execution_count": null,
      "outputs": []
    },
    {
      "metadata": {
        "trusted": false
      },
      "cell_type": "code",
      "source": "results = [\n    requests.post(scoring_url, data=text_to_json(text), headers=headers)\n    for text in dupes_to_score\n]",
      "execution_count": null,
      "outputs": []
    },
    {
      "metadata": {},
      "cell_type": "markdown",
      "source": "Let's print top 3 matches for each duplicate question."
    },
    {
      "metadata": {
        "trusted": false
      },
      "cell_type": "code",
      "source": "[eval(results[i].json())[0:3] for i in range(0, len(results))]",
      "execution_count": null,
      "outputs": []
    },
    {
      "metadata": {},
      "cell_type": "markdown",
      "source": "Next let's quickly check what the request response performance is for the deployed model on AKS cluster."
    },
    {
      "metadata": {
        "trusted": false
      },
      "cell_type": "code",
      "source": "text_data = list(map(text_to_json, dupes_to_score))  # Retrieve the text data",
      "execution_count": null,
      "outputs": []
    },
    {
      "metadata": {
        "trusted": false
      },
      "cell_type": "code",
      "source": "timer_results = list()\nfor text in text_data:\n    res=%timeit -r 1 -o -q requests.post(scoring_url, data=text, headers=headers)\n    timer_results.append(res.best)",
      "execution_count": null,
      "outputs": []
    },
    {
      "metadata": {
        "trusted": false
      },
      "cell_type": "code",
      "source": "timer_results",
      "execution_count": null,
      "outputs": []
    },
    {
      "metadata": {
        "trusted": false
      },
      "cell_type": "code",
      "source": "print(\"Average time taken: {0:4.2f} ms\".format(10 ** 3 * np.mean(timer_results)))",
      "execution_count": null,
      "outputs": []
    },
    {
      "metadata": {},
      "cell_type": "markdown",
      "source": "## Scaling"
    },
    {
      "metadata": {},
      "cell_type": "markdown",
      "source": "In this part, we scale the number of pods to make sure we fully utilize the AKS cluster. To connect to the Kubernetes \ncluster, we will use kubectl, the Kubernetes command-line client. To install, run the following:"
    },
    {
      "metadata": {
        "trusted": false
      },
      "cell_type": "code",
      "source": "!sudo az aks install-cli",
      "execution_count": null,
      "outputs": []
    },
    {
      "metadata": {},
      "cell_type": "markdown",
      "source": "Next, we will get the credentials to connect to the cluster."
    },
    {
      "metadata": {
        "trusted": false
      },
      "cell_type": "code",
      "source": "os.makedirs(os.path.join(os.path.expanduser('~'),'.kube'), exist_ok=True) ",
      "execution_count": null,
      "outputs": []
    },
    {
      "metadata": {
        "trusted": false
      },
      "cell_type": "code",
      "source": "config_path = os.path.join(os.path.expanduser('~'),'.kube/config')",
      "execution_count": null,
      "outputs": []
    },
    {
      "metadata": {
        "trusted": false
      },
      "cell_type": "code",
      "source": "with open(config_path, 'a') as f:\n    f.write(aks_target.get_credentials()['userKubeConfig'])",
      "execution_count": null,
      "outputs": []
    },
    {
      "metadata": {},
      "cell_type": "markdown",
      "source": "Let's check the nodes and pods of the cluster."
    },
    {
      "metadata": {
        "trusted": false
      },
      "cell_type": "code",
      "source": "!kubectl get nodes",
      "execution_count": null,
      "outputs": []
    },
    {
      "metadata": {
        "trusted": false
      },
      "cell_type": "code",
      "source": "!kubectl get pods --all-namespaces",
      "execution_count": null,
      "outputs": []
    },
    {
      "metadata": {
        "trusted": false
      },
      "cell_type": "code",
      "source": "!kubectl get events",
      "execution_count": null,
      "outputs": []
    },
    {
      "metadata": {},
      "cell_type": "markdown",
      "source": "We can now scale up the number of pods."
    },
    {
      "metadata": {
        "trusted": false
      },
      "cell_type": "code",
      "source": "new_num_replicas = 10",
      "execution_count": null,
      "outputs": []
    },
    {
      "metadata": {
        "trusted": false
      },
      "cell_type": "code",
      "source": "!kubectl get namespaces",
      "execution_count": null,
      "outputs": []
    },
    {
      "metadata": {
        "trusted": false
      },
      "cell_type": "code",
      "source": "!kubectl scale --current-replicas=$num_replicas \\\n    --replicas=$new_num_replicas {\"deployments/\" + aks_service_name} \\\n    --namespace azureml-workspace",
      "execution_count": null,
      "outputs": []
    },
    {
      "metadata": {
        "trusted": false
      },
      "cell_type": "code",
      "source": "!kubectl get pods --all-namespaces",
      "execution_count": null,
      "outputs": []
    },
    {
      "metadata": {
        "trusted": false
      },
      "cell_type": "code",
      "source": "!kubectl get deployment",
      "execution_count": null,
      "outputs": []
    },
    {
      "metadata": {},
      "cell_type": "markdown",
      "source": "Next, we will test the [throughput of the web service](06_SpeedTestWebApp.ipynb)."
    }
  ],
  "metadata": {
    "authors": [
      {
        "name": "raymondl"
      }
    ],
    "celltoolbar": "Tags",
    "kernelspec": {
      "name": "python3",
      "display_name": "Python 3",
      "language": "python"
    },
    "language_info": {
      "mimetype": "text/x-python",
      "nbconvert_exporter": "python",
      "name": "python",
      "pygments_lexer": "ipython3",
      "version": "3.6.2",
      "file_extension": ".py",
      "codemirror_mode": {
        "version": 3,
        "name": "ipython"
      }
    },
    "pycharm": {
      "stem_cell": {
        "cell_type": "raw",
        "source": [],
        "metadata": {
          "collapsed": false
        }
      }
    }
  },
  "nbformat": 4,
  "nbformat_minor": 2
}