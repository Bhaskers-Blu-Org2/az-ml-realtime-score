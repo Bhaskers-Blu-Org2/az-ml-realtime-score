{
 "cells": [
  {
   "cell_type": "markdown",
   "metadata": {},
   "source": [
    "Copyright (c) Microsoft Corporation. All rights reserved.\n",
    "\n",
    "Licensed under the MIT License."
   ]
  },
  {
   "cell_type": "markdown",
   "metadata": {},
   "source": [
    "# Load Test deployed web application"
   ]
  },
  {
   "cell_type": "markdown",
   "metadata": {},
   "source": [
    "In this notebook, we test the latency of the deployed web application by sending a number of duplicate questions as asychronous requests."
   ]
  },
  {
   "cell_type": "code",
   "execution_count": 2,
   "metadata": {},
   "outputs": [],
   "source": [
    "import asyncio\n",
    "import json\n",
    "import random\n",
    "import urllib.request\n",
    "from timeit import default_timer\n",
    "import aiohttp\n",
    "import nest_asyncio\n",
    "from tqdm import tqdm\n",
    "import requests\n",
    "import pandas as pd\n",
    "from utilities import text_to_json\n",
    "from azureml.core.workspace import Workspace\n",
    "from azureml.core.image import Image\n",
    "from azureml.core.webservice import AksWebservice\n",
    "from dotenv import set_key, get_key, find_dotenv"
   ]
  },
  {
   "cell_type": "code",
   "execution_count": 3,
   "metadata": {},
   "outputs": [
    {
     "name": "stdout",
     "output_type": "stream",
     "text": [
      "3.3.2\n"
     ]
    }
   ],
   "source": [
    "print(aiohttp.__version__) #3.3.2"
   ]
  },
  {
   "cell_type": "code",
   "execution_count": 4,
   "metadata": {},
   "outputs": [],
   "source": [
    "nest_asyncio.apply()"
   ]
  },
  {
   "cell_type": "code",
   "execution_count": 5,
   "metadata": {},
   "outputs": [
    {
     "name": "stdout",
     "output_type": "stream",
     "text": [
      "Found the config file in: /datadrive/MLAKSDeployAML/aml_config/config.json\n",
      "fboyluamlsdkws\n",
      "fboyluamlsdkrg\n",
      "eastus2\n",
      "edf507a2-6235-46c5-b560-fd463ba2e771\n"
     ]
    }
   ],
   "source": [
    "ws = Workspace.from_config()\n",
    "print(ws.name, ws.resource_group, ws.location, ws.subscription_id, sep=\"\\n\")"
   ]
  },
  {
   "cell_type": "code",
   "execution_count": 6,
   "metadata": {},
   "outputs": [],
   "source": [
    "env_path = find_dotenv(raise_error_if_not_found=True)"
   ]
  },
  {
   "cell_type": "markdown",
   "metadata": {},
   "source": [
    "Let's retrive the web service."
   ]
  },
  {
   "cell_type": "code",
   "execution_count": 7,
   "metadata": {},
   "outputs": [
    {
     "data": {
      "text/plain": [
       "'lgbmservice'"
      ]
     },
     "execution_count": 7,
     "metadata": {},
     "output_type": "execute_result"
    }
   ],
   "source": [
    "aks_service_name = get_key(env_path, 'aks_service_name')\n",
    "aks_service = AksWebservice(ws, name=aks_service_name)\n",
    "aks_service.name"
   ]
  },
  {
   "cell_type": "markdown",
   "metadata": {},
   "source": [
    "We will test our deployed service with 100 calls. We will only have 4 requests concurrently at any time. Feel free to try different values and see how the service responds."
   ]
  },
  {
   "cell_type": "code",
   "execution_count": 8,
   "metadata": {},
   "outputs": [],
   "source": [
    "NUMBER_OF_REQUESTS = 100  # Total number of requests\n",
    "CONCURRENT_REQUESTS = 4   # Number of requests at a time"
   ]
  },
  {
   "cell_type": "markdown",
   "metadata": {},
   "source": [
    "Get the scoring URL and API key of the service."
   ]
  },
  {
   "cell_type": "code",
   "execution_count": 9,
   "metadata": {},
   "outputs": [],
   "source": [
    "scoring_url = aks_service.scoring_uri\n",
    "api_key = aks_service.get_keys()[0]"
   ]
  },
  {
   "cell_type": "code",
   "execution_count": 10,
   "metadata": {},
   "outputs": [],
   "source": [
    "dupes_test_path = './data_folder/dupes_test.tsv'\n",
    "dupes_test = pd.read_csv(dupes_test_path, sep='\\t', encoding='latin1')\n",
    "dupes_to_score = dupes_test.iloc[:NUMBER_OF_REQUESTS,4]"
   ]
  },
  {
   "cell_type": "code",
   "execution_count": 11,
   "metadata": {},
   "outputs": [],
   "source": [
    "url_list = [[scoring_url, jsontext] for jsontext in dupes_to_score.apply(text_to_json)]"
   ]
  },
  {
   "cell_type": "code",
   "execution_count": 12,
   "metadata": {},
   "outputs": [],
   "source": [
    "def decode(result):\n",
    "    return json.loads(result.decode(\"utf-8\"))"
   ]
  },
  {
   "cell_type": "code",
   "execution_count": 13,
   "metadata": {},
   "outputs": [],
   "source": [
    "async def fetch(url, session, data, headers):\n",
    "    start_time = default_timer()\n",
    "    async with session.request(\"post\", url, data=data, headers=headers) as response:\n",
    "        resp = await response.read()\n",
    "        elapsed = default_timer() - start_time\n",
    "        return resp, elapsed"
   ]
  },
  {
   "cell_type": "code",
   "execution_count": 14,
   "metadata": {},
   "outputs": [],
   "source": [
    "async def bound_fetch(sem, url, session, data, headers):\n",
    "    # Getter function with semaphore.\n",
    "    async with sem:\n",
    "        return await fetch(url, session, data, headers)\n"
   ]
  },
  {
   "cell_type": "code",
   "execution_count": 15,
   "metadata": {},
   "outputs": [],
   "source": [
    "async def await_with_progress(coros):\n",
    "    results = []\n",
    "    for f in tqdm(asyncio.as_completed(coros), total=len(coros)):\n",
    "        result = await f\n",
    "        results.append((decode(result[0]), result[1]))\n",
    "    return results\n"
   ]
  },
  {
   "cell_type": "code",
   "execution_count": 16,
   "metadata": {},
   "outputs": [],
   "source": [
    "async def run(url_list, num_concurrent=CONCURRENT_REQUESTS):\n",
    "    headers = {\n",
    "        \"content-type\": \"application/json\",\n",
    "        \"Authorization\": (\"Bearer \" + api_key),\n",
    "    }\n",
    "    tasks = []\n",
    "    # create instance of Semaphore\n",
    "    sem = asyncio.Semaphore(num_concurrent)\n",
    "\n",
    "    # Create client session that will ensure we dont open new connection\n",
    "    # per each request.\n",
    "    async with aiohttp.ClientSession() as session:\n",
    "        for url, data in url_list:\n",
    "            # pass Semaphore and session to every POST request\n",
    "            task = asyncio.ensure_future(bound_fetch(sem, url, session, data, headers))\n",
    "            tasks.append(task)\n",
    "        return await await_with_progress(tasks)\n"
   ]
  },
  {
   "cell_type": "markdown",
   "metadata": {},
   "source": [
    "Below we run the 100 requests against our deployed service."
   ]
  },
  {
   "cell_type": "code",
   "execution_count": 17,
   "metadata": {},
   "outputs": [
    {
     "name": "stderr",
     "output_type": "stream",
     "text": [
      "100%|██████████| 100/100 [00:02<00:00, 33.36it/s]"
     ]
    },
    {
     "name": "stdout",
     "output_type": "stream",
     "text": [
      "Total Elapsed 3.001682119909674\n",
      "Avg time taken 30.02 ms\n"
     ]
    },
    {
     "name": "stderr",
     "output_type": "stream",
     "text": [
      "\n"
     ]
    }
   ],
   "source": [
    "loop = asyncio.get_event_loop()\n",
    "start_time = default_timer()\n",
    "complete_responses = loop.run_until_complete(\n",
    "    asyncio.ensure_future(run(url_list, num_concurrent=CONCURRENT_REQUESTS))\n",
    ")\n",
    "elapsed = default_timer() - start_time\n",
    "print(\"Total Elapsed {}\".format(elapsed))\n",
    "print(\"Avg time taken {0:4.2f} ms\".format(1000 * elapsed / len(url_list)))"
   ]
  },
  {
   "cell_type": "code",
   "execution_count": 18,
   "metadata": {},
   "outputs": [
    {
     "data": {
      "text/plain": [
       "('[[5223, 6700, 0.9999965959866246], [750486, 750506, 0.01531029604225485], [14220321, 14220323, 0.007132754207166135], [3127429, 3127440, 0.004683669164453595], [4057440, 4060176, 0.003948233337061824], [126100, 4889658, 0.0019431114176480726], [8495687, 8495740, 0.0017439976058191318], [7837456, 14853974, 0.0017182658391146225], [111102, 111111, 0.0011247467797070546], [359494, 359509, 0.0006558239961484626], [11922383, 11922384, 0.0002469030382323802], [1129216, 1129270, 0.00015594519383403985], [203198, 1207393, 0.00015279426484568245], [171251, 171256, 7.232940221429718e-05], [8228281, 8228308, 6.509957889736847e-05], [4425318, 4425359, 4.544665737094924e-05], [15141762, 15171030, 4.4550726355687584e-05], [20279484, 20279485, 4.448114291098699e-05], [1822350, 1822769, 4.352134230653638e-05], [1885557, 1885660, 2.422904311163449e-05], [850341, 850346, 1.9769889568170553e-05], [7486085, 7486130, 1.757786527921662e-05], [5767325, 5767357, 1.6630344078064335e-05], [262427, 262511, 1.5123657450837814e-05], [2100758, 2100767, 1.487537831442372e-05], [23740548, 23740549, 1.3500462496422117e-05], [19590865, 19590901, 1.1140430673307221e-05], [2851404, 2851413, 8.22055722015914e-06], [5187530, 5187652, 8.09909882861977e-06], [500431, 500459, 6.862964775047804e-06], [14028959, 8716680, 6.17554463180703e-06], [950087, 950146, 5.994633182426016e-06], [4968406, 4968448, 5.9547436101993834e-06], [205853, 553734, 5.681336655635893e-06], [9032856, 9033306, 3.1769133601063647e-06], [3384504, 3384534, 3.1110246514964415e-06], [3561043, 3561056, 3.052993745958345e-06], [518000, 3638034, 2.201339560710972e-06], [1063007, 1063027, 2.070517307880865e-06], [336859, 336868, 1.9506181487411583e-06], [1527803, 1527820, 1.8577008867356367e-06], [10693845, 10693852, 1.7852297193122462e-06], [840781, 840808, 1.7315100872794962e-06], [1584370, 1584377, 1.623261253219063e-06], [2901102, 2901298, 1.4700052267348847e-06], [1520800, 1520853, 1.4617410893009313e-06], [1458633, 3439981, 1.378185905828845e-06], [1470488, 1470494, 1.17138604713214e-06], [23667086, 23667087, 1.1502723493725221e-06], [728360, 728694, 9.836502827421125e-07], [1359469, 1359507, 9.623738798784101e-07], [1379934, 1380058, 9.56624804688802e-07], [951021, 951057, 9.378518407737149e-07], [6487366, 6487376, 9.165964707484815e-07], [237104, 1473742, 8.848055232750002e-07], [122102, 122704, 7.755481170950527e-07], [1873983, 1873999, 7.569920756177839e-07], [5093398, 5100287, 7.434210230971952e-07], [307179, 307200, 7.170650035077793e-07], [5117127, 5117172, 7.021519927910848e-07], [23392111, 23392650, 6.304176423403404e-07], [1451009, 1451043, 6.247913490614902e-07], [572897, 572996, 5.970838331494382e-07], [979256, 979289, 5.388347969471784e-07], [6259982, 6260001, 4.949719069568899e-07], [24900875, 24900924, 4.852279765275893e-07], [5431351, 5431435, 4.56177987934361e-07], [3434278, 3434388, 4.338442483869241e-07], [1771786, 1771824, 3.7862331358850826e-07], [2421911, 2421949, 3.742867695691512e-07], [1634268, 1634321, 3.675222238364327e-07], [901115, 901144, 3.629042957957301e-07], [25111831, 25111942, 3.457059316851938e-07], [7364150, 7364307, 3.448968319958731e-07], [12953704, 12953750, 3.1910653577489563e-07], [1398582, 1398608, 3.050858735419269e-07], [2010892, 2010948, 3.0003357269966246e-07], [201183, 201471, 2.823009345412191e-07], [3561493, 3561711, 2.4720072184633463e-07], [5627284, 5627301, 2.39496552321875e-07], [1225667, 1225683, 2.2274966447608702e-07], [22519784, 22519785, 2.2261118562851239e-07], [684672, 684692, 2.146721641195236e-07], [440739, 440772, 1.9333396495166635e-07], [1726630, 1726662, 1.7591822549817528e-07], [6847697, 6847754, 1.7537038320009023e-07], [13840429, 13840431, 1.7290203198590808e-07], [1359018, 9331127, 1.7262489561717077e-07], [2846283, 2846298, 1.6649722825663803e-07], [7506844, 7506937, 1.6432923164934523e-07], [13418669, 13418980, 1.6293596171328786e-07], [1085801, 1085810, 1.5938202902393815e-07], [784929, 784946, 1.423243926203784e-07], [12475269, 12475285, 1.4220374029707465e-07], [3888902, 3888938, 1.38064461402987e-07], [1661197, 9337047, 1.3088707776055606e-07], [400212, 6055620, 1.3078719454628507e-07], [2631001, 2631198, 1.2620215896041606e-07], [1026069, 1026087, 1.1938852289368207e-07], [364952, 364997, 1.0946865869441236e-07], [1789945, 1789952, 1.014443139858315e-07], [1646698, 3658673, 1.0036138785623905e-07], [37684, 21925491, 9.695835541098251e-08], [824349, 3354511, 9.626697628154383e-08], [1267283, 1267338, 9.512563579016392e-08], [359788, 359910, 9.36841807170085e-08], [3583724, 3583740, 9.2465947273094e-08], [1144783, 17606289, 9.024716602790544e-08], [3163407, 3163422, 8.400867785724267e-08], [12829963, 12830031, 8.287948612994347e-08], [6491463, 6491621, 7.618952425352165e-08], [492994, 493018, 7.284187228560811e-08], [194397, 194399, 7.250218629745687e-08], [4616202, 4616273, 6.541563350277501e-08], [2075337, 2075349, 6.30261130343295e-08], [236073, 236106, 6.058772938183067e-08], [2716069, 2716188, 5.569942943181417e-08], [20035101, 20035319, 5.519273828782067e-08], [4935632, 4935684, 5.485023795377997e-08], [2320069, 2320097, 5.4663576259545595e-08], [3059044, 3059129, 5.205926808527607e-08], [152975, 153047, 4.831350430126065e-08], [2067472, 2067584, 4.710496722622544e-08], [1068834, 1144249, 4.027134911732228e-08], [5041494, 5734583, 4.0129471555421165e-08], [4255472, 4255480, 3.508978482481621e-08], [6677035, 6677069, 3.0252292571890334e-08], [3665115, 3665147, 2.992966945135784e-08], [242813, 242833, 2.944652166760947e-08], [3076414, 3076648, 2.865771584964372e-08], [121203, 121259, 2.8617152751452032e-08], [3224834, 3224854, 2.7027907060953724e-08], [4912092, 6678156, 2.6214114055342005e-08], [45015, 5686237, 2.4446633754471625e-08], [2274242, 2274327, 2.404101347745726e-08], [1017224, 1017237, 2.3563666898920493e-08], [403967, 22745553, 2.1250291843430386e-08], [3034941, 3034952, 2.0836109657186553e-08], [2241875, 2241883, 2.0696666409765257e-08], [1917576, 1917626, 1.9628756342795982e-08], [134845, 138233, 1.956801403871464e-08], [494035, 494046, 1.8730714294201302e-08], [8110934, 8111171, 1.8263543381566287e-08], [31044, 31047, 1.7495446953772306e-08], [1433212, 1433217, 1.5685099424937672e-08], [7165395, 7165616, 1.494496653839254e-08], [2655925, 8894528, 1.4250784157541318e-08], [85992, 86014, 1.4242006155719271e-08], [29986657, 30070207, 1.4041304433317385e-08], [20077487, 20077854, 1.3205144257532638e-08], [1069666, 1069840, 1.312872278300903e-08], [69913, 69984, 1.2797423706694755e-08], [2802055, 2802064, 1.2458734182792111e-08], [18082, 1830844, 1.1665007517114638e-08], [436411, 24070373, 1.1361642765464767e-08], [1051782, 1051797, 1.0939659684848827e-08], [5891840, 5891929, 1.0714988244834436e-08], [2844565, 2844704, 1.0499406648703896e-08], [149055, 149150, 1.0497832200292514e-08], [2194992, 2195167, 1.035053079177987e-08], [695050, 695053, 9.059584225853275e-09], [25881041, 25881231, 8.585261768047845e-09], [4459379, 4459419, 7.78702231175464e-09], [32584850, 32585470, 7.186936477990058e-09], [805107, 805113, 7.016444384265923e-09], [5874652, 5876747, 6.281459016640438e-09], [27928, 27943, 5.6706113307075096e-09], [610406, 610415, 4.780188136851403e-09], [391979, 810461, 4.686977702472731e-09], [1566595, 1566644, 4.654064435143535e-09], [4907843, 4907854, 3.812386447994671e-09], [4851595, 4851614, 2.5844015087744312e-09], [5004233, 5004276, 2.457969010832175e-09], [5316697, 5316755, 2.3666117214786517e-09], [166221, 8758614, 1.6152081614110377e-09], [168214, 169035, 1.5038050015889046e-09], [8021436, 8021462, 1.2163905483304329e-09], [92720, 92819, 9.803833003867356e-10], [28250680, 28250697, 7.55408319408014e-10], [3595515, 3744697, 2.2298627537818204e-10], [3514784, 3540295, 2.0239863479418928e-10], [1056728, 1056730, 3.797071717660983e-11]]',\n",
       " 0.11529512517154217)"
      ]
     },
     "execution_count": 18,
     "metadata": {},
     "output_type": "execute_result"
    }
   ],
   "source": [
    "# Example response\n",
    "complete_responses[0]"
   ]
  },
  {
   "cell_type": "markdown",
   "metadata": {},
   "source": [
    "Let's use the number of original questions to count the succesful responses."
   ]
  },
  {
   "cell_type": "code",
   "execution_count": 19,
   "metadata": {},
   "outputs": [],
   "source": [
    "no_questions = len(eval(complete_responses[0][0]))"
   ]
  },
  {
   "cell_type": "code",
   "execution_count": 20,
   "metadata": {},
   "outputs": [
    {
     "name": "stdout",
     "output_type": "stream",
     "text": [
      "Succesful 100 out of 100\n"
     ]
    }
   ],
   "source": [
    "num_succesful = [len(eval(i[0])) for i in complete_responses].count(no_questions)\n",
    "print(\"Succesful {} out of {}\".format(num_succesful, len(url_list)))"
   ]
  },
  {
   "cell_type": "markdown",
   "metadata": {},
   "source": [
    "Next, we will explore the real-time scoring in an [iPyWidget app](06_Real_Time_Scoring.ipynb)."
   ]
  }
 ],
 "metadata": {
  "kernelspec": {
   "display_name": "Python [conda env:MLAKSDeployAML]",
   "language": "python",
   "name": "conda-env-MLAKSDeployAML-py"
  },
  "language_info": {
   "codemirror_mode": {
    "name": "ipython",
    "version": 3
   },
   "file_extension": ".py",
   "mimetype": "text/x-python",
   "name": "python",
   "nbconvert_exporter": "python",
   "pygments_lexer": "ipython3",
   "version": "3.6.2"
  }
 },
 "nbformat": 4,
 "nbformat_minor": 2
}
